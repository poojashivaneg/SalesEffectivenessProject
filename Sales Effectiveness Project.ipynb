{
 "cells": [
  {
   "cell_type": "markdown",
   "id": "2d9d71e9",
   "metadata": {},
   "source": [
    "## Problem Statement - Predicting Lead Categories to Improve Sales Effectiveness"
   ]
  },
  {
   "cell_type": "markdown",
   "id": "d352024e",
   "metadata": {},
   "source": [
    "FicZon Inc is experiencing declining sales due to increased competition in the market. \n",
    "\n",
    "To boost sales effectiveness, they need a faster and more accurate way to identify high-quality leads.\n",
    "\n",
    "The current manual lead categorization process is causing delays in engaging potential customers, leading to missed opportunities. \n",
    "\n",
    "FicZon aims to explore Machine Learning to pre-categorize leads and expects this approach to result in significant sales improvement.\n",
    "\n",
    "The objective of this project is to implement a Machine Learning-based lead classification system that pre-categorizes leads based on their quality. \n",
    "\n",
    "The goal is to enhance sales effectiveness by enabling the sales team to prioritize high-quality leads and allocate resources efficiently."
   ]
  },
  {
   "cell_type": "markdown",
   "id": "3b4e6fcb",
   "metadata": {},
   "source": [
    "# Importing Necessary Libraries"
   ]
  },
  {
   "cell_type": "code",
   "execution_count": 1,
   "id": "4068229f",
   "metadata": {},
   "outputs": [],
   "source": [
    "import mysql.connector\n",
    "import pandas as pd\n",
    "import numpy as np\n",
    "import matplotlib.pyplot as plt\n",
    "import seaborn as sns\n",
    "import warnings\n",
    "warnings.filterwarnings('ignore')"
   ]
  },
  {
   "cell_type": "markdown",
   "id": "37d733e0",
   "metadata": {},
   "source": [
    "# Load the Dataset"
   ]
  },
  {
   "cell_type": "code",
   "execution_count": 2,
   "id": "295c8f9f",
   "metadata": {},
   "outputs": [],
   "source": [
    "connection = mysql.connector.connect(host = '18.136.157.135',\n",
    "                                  user='dm_team2',\n",
    "                                  password='DM!$Team&27@9!20!',\n",
    "                                  database='project_sales')"
   ]
  },
  {
   "cell_type": "markdown",
   "id": "2335b495",
   "metadata": {},
   "source": [
    "* Create cursor to interact with the database"
   ]
  },
  {
   "cell_type": "code",
   "execution_count": 3,
   "id": "1d48a672",
   "metadata": {},
   "outputs": [
    {
     "name": "stdout",
     "output_type": "stream",
     "text": [
      "('information_schema',)\n",
      "('project_sales',)\n"
     ]
    }
   ],
   "source": [
    "cursor=connection.cursor()\n",
    "cursor.execute('show databases')\n",
    "for i in cursor:\n",
    "    print(i)"
   ]
  },
  {
   "cell_type": "code",
   "execution_count": 4,
   "id": "227f03b0",
   "metadata": {},
   "outputs": [
    {
     "name": "stdout",
     "output_type": "stream",
     "text": [
      "  Tables_in_project_sales\n",
      "0                    data\n"
     ]
    }
   ],
   "source": [
    "db_tables = pd.read_sql_query('show tables',connection)\n",
    "print(db_tables)"
   ]
  },
  {
   "cell_type": "code",
   "execution_count": 5,
   "id": "61c181dc",
   "metadata": {},
   "outputs": [],
   "source": [
    "query = \"select * from data\""
   ]
  },
  {
   "cell_type": "code",
   "execution_count": 6,
   "id": "69ce72fa",
   "metadata": {},
   "outputs": [
    {
     "data": {
      "text/plain": [
       "'select * from data'"
      ]
     },
     "execution_count": 6,
     "metadata": {},
     "output_type": "execute_result"
    }
   ],
   "source": [
    "query"
   ]
  },
  {
   "cell_type": "code",
   "execution_count": 7,
   "id": "631070dd",
   "metadata": {},
   "outputs": [
    {
     "data": {
      "text/html": [
       "<div>\n",
       "<style scoped>\n",
       "    .dataframe tbody tr th:only-of-type {\n",
       "        vertical-align: middle;\n",
       "    }\n",
       "\n",
       "    .dataframe tbody tr th {\n",
       "        vertical-align: top;\n",
       "    }\n",
       "\n",
       "    .dataframe thead th {\n",
       "        text-align: right;\n",
       "    }\n",
       "</style>\n",
       "<table border=\"1\" class=\"dataframe\">\n",
       "  <thead>\n",
       "    <tr style=\"text-align: right;\">\n",
       "      <th></th>\n",
       "      <th>Created</th>\n",
       "      <th>Product_ID</th>\n",
       "      <th>Source</th>\n",
       "      <th>Mobile</th>\n",
       "      <th>EMAIL</th>\n",
       "      <th>Sales_Agent</th>\n",
       "      <th>Location</th>\n",
       "      <th>Delivery_Mode</th>\n",
       "      <th>Status</th>\n",
       "    </tr>\n",
       "  </thead>\n",
       "  <tbody>\n",
       "    <tr>\n",
       "      <th>0</th>\n",
       "      <td>14-11-2018 10:05</td>\n",
       "      <td></td>\n",
       "      <td>Website</td>\n",
       "      <td>984XXXXXXX</td>\n",
       "      <td>aXXXXXXX@gmail.com</td>\n",
       "      <td>Sales-Agent-11</td>\n",
       "      <td></td>\n",
       "      <td>Mode-5</td>\n",
       "      <td>Open</td>\n",
       "    </tr>\n",
       "    <tr>\n",
       "      <th>1</th>\n",
       "      <td>14-11-2018 09:22</td>\n",
       "      <td></td>\n",
       "      <td>Website</td>\n",
       "      <td>XXXXXXX</td>\n",
       "      <td>#VALUE!</td>\n",
       "      <td>Sales-Agent-10</td>\n",
       "      <td></td>\n",
       "      <td>Mode-5</td>\n",
       "      <td>Open</td>\n",
       "    </tr>\n",
       "    <tr>\n",
       "      <th>2</th>\n",
       "      <td>14-11-2018 09:21</td>\n",
       "      <td></td>\n",
       "      <td>Website</td>\n",
       "      <td>XXXXXXX</td>\n",
       "      <td>dXXXXXXX@yahoo.com</td>\n",
       "      <td>Sales-Agent-10</td>\n",
       "      <td></td>\n",
       "      <td>Mode-5</td>\n",
       "      <td>Open</td>\n",
       "    </tr>\n",
       "    <tr>\n",
       "      <th>3</th>\n",
       "      <td>14-11-2018 08:46</td>\n",
       "      <td></td>\n",
       "      <td>Website</td>\n",
       "      <td>XXXXXXX</td>\n",
       "      <td>wXXXXXXX@gmail.com</td>\n",
       "      <td>Sales-Agent-10</td>\n",
       "      <td></td>\n",
       "      <td>Mode-5</td>\n",
       "      <td>Open</td>\n",
       "    </tr>\n",
       "    <tr>\n",
       "      <th>4</th>\n",
       "      <td>14-11-2018 07:34</td>\n",
       "      <td></td>\n",
       "      <td>Website</td>\n",
       "      <td>XXXXXXX</td>\n",
       "      <td>cXXXXXXX@gmail.com</td>\n",
       "      <td>Sales-Agent-10</td>\n",
       "      <td></td>\n",
       "      <td>Mode-5</td>\n",
       "      <td>Open</td>\n",
       "    </tr>\n",
       "    <tr>\n",
       "      <th>...</th>\n",
       "      <td>...</td>\n",
       "      <td>...</td>\n",
       "      <td>...</td>\n",
       "      <td>...</td>\n",
       "      <td>...</td>\n",
       "      <td>...</td>\n",
       "      <td>...</td>\n",
       "      <td>...</td>\n",
       "      <td>...</td>\n",
       "    </tr>\n",
       "    <tr>\n",
       "      <th>7417</th>\n",
       "      <td>28-04-2018 09:45</td>\n",
       "      <td>9</td>\n",
       "      <td>Call</td>\n",
       "      <td></td>\n",
       "      <td>aXXXXXXX@gmail.com</td>\n",
       "      <td>Sales-Agent-6</td>\n",
       "      <td>Mumbai</td>\n",
       "      <td>Mode-4</td>\n",
       "      <td>LOST</td>\n",
       "    </tr>\n",
       "    <tr>\n",
       "      <th>7418</th>\n",
       "      <td>28-04-2018 09:43</td>\n",
       "      <td>15</td>\n",
       "      <td>Call</td>\n",
       "      <td></td>\n",
       "      <td>#VALUE!</td>\n",
       "      <td>Sales-Agent-12</td>\n",
       "      <td>Other Locations</td>\n",
       "      <td>Mode-5</td>\n",
       "      <td>LOST</td>\n",
       "    </tr>\n",
       "    <tr>\n",
       "      <th>7419</th>\n",
       "      <td>28-04-2018 09:20</td>\n",
       "      <td>5</td>\n",
       "      <td>Live Chat-Direct</td>\n",
       "      <td></td>\n",
       "      <td>sXXXXXXX@gmail.com</td>\n",
       "      <td>Sales-Agent-11</td>\n",
       "      <td>Bangalore</td>\n",
       "      <td>Mode-1</td>\n",
       "      <td>Not Responding</td>\n",
       "    </tr>\n",
       "    <tr>\n",
       "      <th>7420</th>\n",
       "      <td>28-04-2018 08:04</td>\n",
       "      <td>21</td>\n",
       "      <td>CRM form</td>\n",
       "      <td></td>\n",
       "      <td>YXXXXXXX@gmail.com</td>\n",
       "      <td>Sales-Agent-4</td>\n",
       "      <td>Other Locations</td>\n",
       "      <td>Mode-1</td>\n",
       "      <td>Just Enquiry</td>\n",
       "    </tr>\n",
       "    <tr>\n",
       "      <th>7421</th>\n",
       "      <td>28-04-2018 07:54</td>\n",
       "      <td>25</td>\n",
       "      <td>Website</td>\n",
       "      <td></td>\n",
       "      <td>cXXXXXXX@gmail.com</td>\n",
       "      <td>Sales-Agent-3</td>\n",
       "      <td>Chennai</td>\n",
       "      <td>Mode-1</td>\n",
       "      <td>CONVERTED</td>\n",
       "    </tr>\n",
       "  </tbody>\n",
       "</table>\n",
       "<p>7422 rows × 9 columns</p>\n",
       "</div>"
      ],
      "text/plain": [
       "               Created Product_ID            Source      Mobile  \\\n",
       "0     14-11-2018 10:05                      Website  984XXXXXXX   \n",
       "1     14-11-2018 09:22                      Website     XXXXXXX   \n",
       "2     14-11-2018 09:21                      Website     XXXXXXX   \n",
       "3     14-11-2018 08:46                      Website     XXXXXXX   \n",
       "4     14-11-2018 07:34                      Website     XXXXXXX   \n",
       "...                ...        ...               ...         ...   \n",
       "7417  28-04-2018 09:45          9              Call               \n",
       "7418  28-04-2018 09:43         15              Call               \n",
       "7419  28-04-2018 09:20          5  Live Chat-Direct               \n",
       "7420  28-04-2018 08:04         21          CRM form               \n",
       "7421  28-04-2018 07:54         25           Website               \n",
       "\n",
       "                   EMAIL     Sales_Agent         Location Delivery_Mode  \\\n",
       "0     aXXXXXXX@gmail.com  Sales-Agent-11                         Mode-5   \n",
       "1                #VALUE!  Sales-Agent-10                         Mode-5   \n",
       "2     dXXXXXXX@yahoo.com  Sales-Agent-10                         Mode-5   \n",
       "3     wXXXXXXX@gmail.com  Sales-Agent-10                         Mode-5   \n",
       "4     cXXXXXXX@gmail.com  Sales-Agent-10                         Mode-5   \n",
       "...                  ...             ...              ...           ...   \n",
       "7417  aXXXXXXX@gmail.com   Sales-Agent-6           Mumbai        Mode-4   \n",
       "7418             #VALUE!  Sales-Agent-12  Other Locations        Mode-5   \n",
       "7419  sXXXXXXX@gmail.com  Sales-Agent-11        Bangalore        Mode-1   \n",
       "7420  YXXXXXXX@gmail.com   Sales-Agent-4  Other Locations        Mode-1   \n",
       "7421  cXXXXXXX@gmail.com   Sales-Agent-3          Chennai        Mode-1   \n",
       "\n",
       "              Status  \n",
       "0               Open  \n",
       "1               Open  \n",
       "2               Open  \n",
       "3               Open  \n",
       "4               Open  \n",
       "...              ...  \n",
       "7417            LOST  \n",
       "7418            LOST  \n",
       "7419  Not Responding  \n",
       "7420    Just Enquiry  \n",
       "7421       CONVERTED  \n",
       "\n",
       "[7422 rows x 9 columns]"
      ]
     },
     "execution_count": 7,
     "metadata": {},
     "output_type": "execute_result"
    }
   ],
   "source": [
    "data = pd.read_sql(query,connection)\n",
    "data"
   ]
  },
  {
   "cell_type": "markdown",
   "id": "635f9371",
   "metadata": {},
   "source": [
    "# Domain Analysis"
   ]
  },
  {
   "cell_type": "markdown",
   "id": "7976e041",
   "metadata": {},
   "source": [
    "Created - This variable represents the timestamp or date when a sales record or transaction was created.\n",
    "\n",
    "Product_ID - This variable represents the unique identifier of the product being sold.\n",
    "\n",
    "Source - This variable indicates the source from which the sales lead or customer was acquired. \n",
    "\n",
    "Mobile - This variable likely indicates that the customer's mobile number.\n",
    "\n",
    "EMAIL - This variable indicates the customer's email address.\n",
    "\n",
    "Sales_Agent - This variable represents the sales agent or representative involved in the transaction.\n",
    "\n",
    "Location - This variable indicates the location or region where the sales transaction took place.\n",
    "\n",
    "Delivery_Mode - This variable represents the mode of product delivery.\n",
    "\n",
    "Status - This variable represents the current status of the sales transaction."
   ]
  },
  {
   "cell_type": "markdown",
   "id": "d613be69",
   "metadata": {},
   "source": [
    "# Basic Checks"
   ]
  },
  {
   "cell_type": "code",
   "execution_count": 8,
   "id": "5e4157e5",
   "metadata": {},
   "outputs": [
    {
     "data": {
      "text/html": [
       "<div>\n",
       "<style scoped>\n",
       "    .dataframe tbody tr th:only-of-type {\n",
       "        vertical-align: middle;\n",
       "    }\n",
       "\n",
       "    .dataframe tbody tr th {\n",
       "        vertical-align: top;\n",
       "    }\n",
       "\n",
       "    .dataframe thead th {\n",
       "        text-align: right;\n",
       "    }\n",
       "</style>\n",
       "<table border=\"1\" class=\"dataframe\">\n",
       "  <thead>\n",
       "    <tr style=\"text-align: right;\">\n",
       "      <th></th>\n",
       "      <th>Created</th>\n",
       "      <th>Product_ID</th>\n",
       "      <th>Source</th>\n",
       "      <th>Mobile</th>\n",
       "      <th>EMAIL</th>\n",
       "      <th>Sales_Agent</th>\n",
       "      <th>Location</th>\n",
       "      <th>Delivery_Mode</th>\n",
       "      <th>Status</th>\n",
       "    </tr>\n",
       "  </thead>\n",
       "  <tbody>\n",
       "    <tr>\n",
       "      <th>0</th>\n",
       "      <td>14-11-2018 10:05</td>\n",
       "      <td></td>\n",
       "      <td>Website</td>\n",
       "      <td>984XXXXXXX</td>\n",
       "      <td>aXXXXXXX@gmail.com</td>\n",
       "      <td>Sales-Agent-11</td>\n",
       "      <td></td>\n",
       "      <td>Mode-5</td>\n",
       "      <td>Open</td>\n",
       "    </tr>\n",
       "    <tr>\n",
       "      <th>1</th>\n",
       "      <td>14-11-2018 09:22</td>\n",
       "      <td></td>\n",
       "      <td>Website</td>\n",
       "      <td>XXXXXXX</td>\n",
       "      <td>#VALUE!</td>\n",
       "      <td>Sales-Agent-10</td>\n",
       "      <td></td>\n",
       "      <td>Mode-5</td>\n",
       "      <td>Open</td>\n",
       "    </tr>\n",
       "    <tr>\n",
       "      <th>2</th>\n",
       "      <td>14-11-2018 09:21</td>\n",
       "      <td></td>\n",
       "      <td>Website</td>\n",
       "      <td>XXXXXXX</td>\n",
       "      <td>dXXXXXXX@yahoo.com</td>\n",
       "      <td>Sales-Agent-10</td>\n",
       "      <td></td>\n",
       "      <td>Mode-5</td>\n",
       "      <td>Open</td>\n",
       "    </tr>\n",
       "    <tr>\n",
       "      <th>3</th>\n",
       "      <td>14-11-2018 08:46</td>\n",
       "      <td></td>\n",
       "      <td>Website</td>\n",
       "      <td>XXXXXXX</td>\n",
       "      <td>wXXXXXXX@gmail.com</td>\n",
       "      <td>Sales-Agent-10</td>\n",
       "      <td></td>\n",
       "      <td>Mode-5</td>\n",
       "      <td>Open</td>\n",
       "    </tr>\n",
       "    <tr>\n",
       "      <th>4</th>\n",
       "      <td>14-11-2018 07:34</td>\n",
       "      <td></td>\n",
       "      <td>Website</td>\n",
       "      <td>XXXXXXX</td>\n",
       "      <td>cXXXXXXX@gmail.com</td>\n",
       "      <td>Sales-Agent-10</td>\n",
       "      <td></td>\n",
       "      <td>Mode-5</td>\n",
       "      <td>Open</td>\n",
       "    </tr>\n",
       "  </tbody>\n",
       "</table>\n",
       "</div>"
      ],
      "text/plain": [
       "            Created Product_ID   Source      Mobile               EMAIL  \\\n",
       "0  14-11-2018 10:05             Website  984XXXXXXX  aXXXXXXX@gmail.com   \n",
       "1  14-11-2018 09:22             Website     XXXXXXX             #VALUE!   \n",
       "2  14-11-2018 09:21             Website     XXXXXXX  dXXXXXXX@yahoo.com   \n",
       "3  14-11-2018 08:46             Website     XXXXXXX  wXXXXXXX@gmail.com   \n",
       "4  14-11-2018 07:34             Website     XXXXXXX  cXXXXXXX@gmail.com   \n",
       "\n",
       "      Sales_Agent Location Delivery_Mode Status  \n",
       "0  Sales-Agent-11                 Mode-5   Open  \n",
       "1  Sales-Agent-10                 Mode-5   Open  \n",
       "2  Sales-Agent-10                 Mode-5   Open  \n",
       "3  Sales-Agent-10                 Mode-5   Open  \n",
       "4  Sales-Agent-10                 Mode-5   Open  "
      ]
     },
     "execution_count": 8,
     "metadata": {},
     "output_type": "execute_result"
    }
   ],
   "source": [
    "data.head()"
   ]
  },
  {
   "cell_type": "code",
   "execution_count": 9,
   "id": "82ab3e60",
   "metadata": {},
   "outputs": [
    {
     "data": {
      "text/html": [
       "<div>\n",
       "<style scoped>\n",
       "    .dataframe tbody tr th:only-of-type {\n",
       "        vertical-align: middle;\n",
       "    }\n",
       "\n",
       "    .dataframe tbody tr th {\n",
       "        vertical-align: top;\n",
       "    }\n",
       "\n",
       "    .dataframe thead th {\n",
       "        text-align: right;\n",
       "    }\n",
       "</style>\n",
       "<table border=\"1\" class=\"dataframe\">\n",
       "  <thead>\n",
       "    <tr style=\"text-align: right;\">\n",
       "      <th></th>\n",
       "      <th>Created</th>\n",
       "      <th>Product_ID</th>\n",
       "      <th>Source</th>\n",
       "      <th>Mobile</th>\n",
       "      <th>EMAIL</th>\n",
       "      <th>Sales_Agent</th>\n",
       "      <th>Location</th>\n",
       "      <th>Delivery_Mode</th>\n",
       "      <th>Status</th>\n",
       "    </tr>\n",
       "  </thead>\n",
       "  <tbody>\n",
       "    <tr>\n",
       "      <th>7417</th>\n",
       "      <td>28-04-2018 09:45</td>\n",
       "      <td>9</td>\n",
       "      <td>Call</td>\n",
       "      <td></td>\n",
       "      <td>aXXXXXXX@gmail.com</td>\n",
       "      <td>Sales-Agent-6</td>\n",
       "      <td>Mumbai</td>\n",
       "      <td>Mode-4</td>\n",
       "      <td>LOST</td>\n",
       "    </tr>\n",
       "    <tr>\n",
       "      <th>7418</th>\n",
       "      <td>28-04-2018 09:43</td>\n",
       "      <td>15</td>\n",
       "      <td>Call</td>\n",
       "      <td></td>\n",
       "      <td>#VALUE!</td>\n",
       "      <td>Sales-Agent-12</td>\n",
       "      <td>Other Locations</td>\n",
       "      <td>Mode-5</td>\n",
       "      <td>LOST</td>\n",
       "    </tr>\n",
       "    <tr>\n",
       "      <th>7419</th>\n",
       "      <td>28-04-2018 09:20</td>\n",
       "      <td>5</td>\n",
       "      <td>Live Chat-Direct</td>\n",
       "      <td></td>\n",
       "      <td>sXXXXXXX@gmail.com</td>\n",
       "      <td>Sales-Agent-11</td>\n",
       "      <td>Bangalore</td>\n",
       "      <td>Mode-1</td>\n",
       "      <td>Not Responding</td>\n",
       "    </tr>\n",
       "    <tr>\n",
       "      <th>7420</th>\n",
       "      <td>28-04-2018 08:04</td>\n",
       "      <td>21</td>\n",
       "      <td>CRM form</td>\n",
       "      <td></td>\n",
       "      <td>YXXXXXXX@gmail.com</td>\n",
       "      <td>Sales-Agent-4</td>\n",
       "      <td>Other Locations</td>\n",
       "      <td>Mode-1</td>\n",
       "      <td>Just Enquiry</td>\n",
       "    </tr>\n",
       "    <tr>\n",
       "      <th>7421</th>\n",
       "      <td>28-04-2018 07:54</td>\n",
       "      <td>25</td>\n",
       "      <td>Website</td>\n",
       "      <td></td>\n",
       "      <td>cXXXXXXX@gmail.com</td>\n",
       "      <td>Sales-Agent-3</td>\n",
       "      <td>Chennai</td>\n",
       "      <td>Mode-1</td>\n",
       "      <td>CONVERTED</td>\n",
       "    </tr>\n",
       "  </tbody>\n",
       "</table>\n",
       "</div>"
      ],
      "text/plain": [
       "               Created Product_ID            Source Mobile  \\\n",
       "7417  28-04-2018 09:45          9              Call          \n",
       "7418  28-04-2018 09:43         15              Call          \n",
       "7419  28-04-2018 09:20          5  Live Chat-Direct          \n",
       "7420  28-04-2018 08:04         21          CRM form          \n",
       "7421  28-04-2018 07:54         25           Website          \n",
       "\n",
       "                   EMAIL     Sales_Agent         Location Delivery_Mode  \\\n",
       "7417  aXXXXXXX@gmail.com   Sales-Agent-6           Mumbai        Mode-4   \n",
       "7418             #VALUE!  Sales-Agent-12  Other Locations        Mode-5   \n",
       "7419  sXXXXXXX@gmail.com  Sales-Agent-11        Bangalore        Mode-1   \n",
       "7420  YXXXXXXX@gmail.com   Sales-Agent-4  Other Locations        Mode-1   \n",
       "7421  cXXXXXXX@gmail.com   Sales-Agent-3          Chennai        Mode-1   \n",
       "\n",
       "              Status  \n",
       "7417            LOST  \n",
       "7418            LOST  \n",
       "7419  Not Responding  \n",
       "7420    Just Enquiry  \n",
       "7421       CONVERTED  "
      ]
     },
     "execution_count": 9,
     "metadata": {},
     "output_type": "execute_result"
    }
   ],
   "source": [
    "data.tail()"
   ]
  },
  {
   "cell_type": "code",
   "execution_count": 10,
   "id": "87a5b4d7",
   "metadata": {},
   "outputs": [
    {
     "name": "stdout",
     "output_type": "stream",
     "text": [
      "<class 'pandas.core.frame.DataFrame'>\n",
      "RangeIndex: 7422 entries, 0 to 7421\n",
      "Data columns (total 9 columns):\n",
      " #   Column         Non-Null Count  Dtype \n",
      "---  ------         --------------  ----- \n",
      " 0   Created        7422 non-null   object\n",
      " 1   Product_ID     7422 non-null   object\n",
      " 2   Source         7422 non-null   object\n",
      " 3   Mobile         7422 non-null   object\n",
      " 4   EMAIL          7422 non-null   object\n",
      " 5   Sales_Agent    7422 non-null   object\n",
      " 6   Location       7422 non-null   object\n",
      " 7   Delivery_Mode  7422 non-null   object\n",
      " 8   Status         7422 non-null   object\n",
      "dtypes: object(9)\n",
      "memory usage: 522.0+ KB\n"
     ]
    }
   ],
   "source": [
    "data.info()"
   ]
  },
  {
   "cell_type": "code",
   "execution_count": 11,
   "id": "cab79e7f",
   "metadata": {},
   "outputs": [
    {
     "data": {
      "text/html": [
       "<div>\n",
       "<style scoped>\n",
       "    .dataframe tbody tr th:only-of-type {\n",
       "        vertical-align: middle;\n",
       "    }\n",
       "\n",
       "    .dataframe tbody tr th {\n",
       "        vertical-align: top;\n",
       "    }\n",
       "\n",
       "    .dataframe thead th {\n",
       "        text-align: right;\n",
       "    }\n",
       "</style>\n",
       "<table border=\"1\" class=\"dataframe\">\n",
       "  <thead>\n",
       "    <tr style=\"text-align: right;\">\n",
       "      <th></th>\n",
       "      <th>Created</th>\n",
       "      <th>Product_ID</th>\n",
       "      <th>Source</th>\n",
       "      <th>Mobile</th>\n",
       "      <th>EMAIL</th>\n",
       "      <th>Sales_Agent</th>\n",
       "      <th>Location</th>\n",
       "      <th>Delivery_Mode</th>\n",
       "      <th>Status</th>\n",
       "    </tr>\n",
       "  </thead>\n",
       "  <tbody>\n",
       "    <tr>\n",
       "      <th>count</th>\n",
       "      <td>7422</td>\n",
       "      <td>7422</td>\n",
       "      <td>7422</td>\n",
       "      <td>7422</td>\n",
       "      <td>7422</td>\n",
       "      <td>7422</td>\n",
       "      <td>7422</td>\n",
       "      <td>7422</td>\n",
       "      <td>7422</td>\n",
       "    </tr>\n",
       "    <tr>\n",
       "      <th>unique</th>\n",
       "      <td>6752</td>\n",
       "      <td>30</td>\n",
       "      <td>26</td>\n",
       "      <td>487</td>\n",
       "      <td>883</td>\n",
       "      <td>13</td>\n",
       "      <td>18</td>\n",
       "      <td>5</td>\n",
       "      <td>11</td>\n",
       "    </tr>\n",
       "    <tr>\n",
       "      <th>top</th>\n",
       "      <td>26-09-2018 11:30</td>\n",
       "      <td>18</td>\n",
       "      <td>Call</td>\n",
       "      <td></td>\n",
       "      <td>#VALUE!</td>\n",
       "      <td>Sales-Agent-4</td>\n",
       "      <td>Other Locations</td>\n",
       "      <td>Mode-5</td>\n",
       "      <td>Junk Lead</td>\n",
       "    </tr>\n",
       "    <tr>\n",
       "      <th>freq</th>\n",
       "      <td>4</td>\n",
       "      <td>1711</td>\n",
       "      <td>2547</td>\n",
       "      <td>1810</td>\n",
       "      <td>1701</td>\n",
       "      <td>1500</td>\n",
       "      <td>2500</td>\n",
       "      <td>2975</td>\n",
       "      <td>1536</td>\n",
       "    </tr>\n",
       "  </tbody>\n",
       "</table>\n",
       "</div>"
      ],
      "text/plain": [
       "                 Created Product_ID Source Mobile    EMAIL    Sales_Agent  \\\n",
       "count               7422       7422   7422   7422     7422           7422   \n",
       "unique              6752         30     26    487      883             13   \n",
       "top     26-09-2018 11:30         18   Call         #VALUE!  Sales-Agent-4   \n",
       "freq                   4       1711   2547   1810     1701           1500   \n",
       "\n",
       "               Location Delivery_Mode     Status  \n",
       "count              7422          7422       7422  \n",
       "unique               18             5         11  \n",
       "top     Other Locations        Mode-5  Junk Lead  \n",
       "freq               2500          2975       1536  "
      ]
     },
     "execution_count": 11,
     "metadata": {},
     "output_type": "execute_result"
    }
   ],
   "source": [
    "data.describe()"
   ]
  },
  {
   "cell_type": "code",
   "execution_count": 12,
   "id": "c465101e",
   "metadata": {},
   "outputs": [
    {
     "data": {
      "text/plain": [
       "Created          object\n",
       "Product_ID       object\n",
       "Source           object\n",
       "Mobile           object\n",
       "EMAIL            object\n",
       "Sales_Agent      object\n",
       "Location         object\n",
       "Delivery_Mode    object\n",
       "Status           object\n",
       "dtype: object"
      ]
     },
     "execution_count": 12,
     "metadata": {},
     "output_type": "execute_result"
    }
   ],
   "source": [
    "data.dtypes"
   ]
  },
  {
   "cell_type": "code",
   "execution_count": 13,
   "id": "1389d5bc",
   "metadata": {},
   "outputs": [
    {
     "data": {
      "text/plain": [
       "(7422, 9)"
      ]
     },
     "execution_count": 13,
     "metadata": {},
     "output_type": "execute_result"
    }
   ],
   "source": [
    "data.shape"
   ]
  },
  {
   "cell_type": "code",
   "execution_count": 14,
   "id": "eb3575ac",
   "metadata": {},
   "outputs": [
    {
     "data": {
      "text/plain": [
       "Created          0\n",
       "Product_ID       0\n",
       "Source           0\n",
       "Mobile           0\n",
       "EMAIL            0\n",
       "Sales_Agent      0\n",
       "Location         0\n",
       "Delivery_Mode    0\n",
       "Status           0\n",
       "dtype: int64"
      ]
     },
     "execution_count": 14,
     "metadata": {},
     "output_type": "execute_result"
    }
   ],
   "source": [
    "data.isnull().sum()"
   ]
  },
  {
   "cell_type": "markdown",
   "id": "c648fb74",
   "metadata": {},
   "source": [
    "# Data Preprocessing & Feature Engineering"
   ]
  },
  {
   "cell_type": "code",
   "execution_count": 15,
   "id": "e5520506",
   "metadata": {},
   "outputs": [],
   "source": [
    "data.drop(columns=['Created','Mobile','EMAIL'],inplace=True)"
   ]
  },
  {
   "cell_type": "code",
   "execution_count": 16,
   "id": "f423ae4f",
   "metadata": {},
   "outputs": [
    {
     "data": {
      "text/html": [
       "<div>\n",
       "<style scoped>\n",
       "    .dataframe tbody tr th:only-of-type {\n",
       "        vertical-align: middle;\n",
       "    }\n",
       "\n",
       "    .dataframe tbody tr th {\n",
       "        vertical-align: top;\n",
       "    }\n",
       "\n",
       "    .dataframe thead th {\n",
       "        text-align: right;\n",
       "    }\n",
       "</style>\n",
       "<table border=\"1\" class=\"dataframe\">\n",
       "  <thead>\n",
       "    <tr style=\"text-align: right;\">\n",
       "      <th></th>\n",
       "      <th>Product_ID</th>\n",
       "      <th>Source</th>\n",
       "      <th>Sales_Agent</th>\n",
       "      <th>Location</th>\n",
       "      <th>Delivery_Mode</th>\n",
       "      <th>Status</th>\n",
       "    </tr>\n",
       "  </thead>\n",
       "  <tbody>\n",
       "    <tr>\n",
       "      <th>0</th>\n",
       "      <td></td>\n",
       "      <td>Website</td>\n",
       "      <td>Sales-Agent-11</td>\n",
       "      <td></td>\n",
       "      <td>Mode-5</td>\n",
       "      <td>Open</td>\n",
       "    </tr>\n",
       "    <tr>\n",
       "      <th>1</th>\n",
       "      <td></td>\n",
       "      <td>Website</td>\n",
       "      <td>Sales-Agent-10</td>\n",
       "      <td></td>\n",
       "      <td>Mode-5</td>\n",
       "      <td>Open</td>\n",
       "    </tr>\n",
       "    <tr>\n",
       "      <th>2</th>\n",
       "      <td></td>\n",
       "      <td>Website</td>\n",
       "      <td>Sales-Agent-10</td>\n",
       "      <td></td>\n",
       "      <td>Mode-5</td>\n",
       "      <td>Open</td>\n",
       "    </tr>\n",
       "    <tr>\n",
       "      <th>3</th>\n",
       "      <td></td>\n",
       "      <td>Website</td>\n",
       "      <td>Sales-Agent-10</td>\n",
       "      <td></td>\n",
       "      <td>Mode-5</td>\n",
       "      <td>Open</td>\n",
       "    </tr>\n",
       "    <tr>\n",
       "      <th>4</th>\n",
       "      <td></td>\n",
       "      <td>Website</td>\n",
       "      <td>Sales-Agent-10</td>\n",
       "      <td></td>\n",
       "      <td>Mode-5</td>\n",
       "      <td>Open</td>\n",
       "    </tr>\n",
       "  </tbody>\n",
       "</table>\n",
       "</div>"
      ],
      "text/plain": [
       "  Product_ID   Source     Sales_Agent Location Delivery_Mode Status\n",
       "0             Website  Sales-Agent-11                 Mode-5   Open\n",
       "1             Website  Sales-Agent-10                 Mode-5   Open\n",
       "2             Website  Sales-Agent-10                 Mode-5   Open\n",
       "3             Website  Sales-Agent-10                 Mode-5   Open\n",
       "4             Website  Sales-Agent-10                 Mode-5   Open"
      ]
     },
     "execution_count": 16,
     "metadata": {},
     "output_type": "execute_result"
    }
   ],
   "source": [
    "data.head()"
   ]
  },
  {
   "cell_type": "code",
   "execution_count": 17,
   "id": "99dede58",
   "metadata": {},
   "outputs": [
    {
     "data": {
      "text/plain": [
       "Product_ID       0\n",
       "Source           0\n",
       "Sales_Agent      0\n",
       "Location         0\n",
       "Delivery_Mode    0\n",
       "Status           0\n",
       "dtype: int64"
      ]
     },
     "execution_count": 17,
     "metadata": {},
     "output_type": "execute_result"
    }
   ],
   "source": [
    "data.isnull().sum()"
   ]
  },
  {
   "cell_type": "code",
   "execution_count": 18,
   "id": "874edfc3",
   "metadata": {},
   "outputs": [
    {
     "data": {
      "text/html": [
       "<div>\n",
       "<style scoped>\n",
       "    .dataframe tbody tr th:only-of-type {\n",
       "        vertical-align: middle;\n",
       "    }\n",
       "\n",
       "    .dataframe tbody tr th {\n",
       "        vertical-align: top;\n",
       "    }\n",
       "\n",
       "    .dataframe thead th {\n",
       "        text-align: right;\n",
       "    }\n",
       "</style>\n",
       "<table border=\"1\" class=\"dataframe\">\n",
       "  <thead>\n",
       "    <tr style=\"text-align: right;\">\n",
       "      <th></th>\n",
       "      <th>Product_ID</th>\n",
       "      <th>Source</th>\n",
       "      <th>Sales_Agent</th>\n",
       "      <th>Location</th>\n",
       "      <th>Delivery_Mode</th>\n",
       "      <th>Status</th>\n",
       "    </tr>\n",
       "  </thead>\n",
       "  <tbody>\n",
       "    <tr>\n",
       "      <th>0</th>\n",
       "      <td></td>\n",
       "      <td>Website</td>\n",
       "      <td>Sales-Agent-11</td>\n",
       "      <td></td>\n",
       "      <td>Mode-5</td>\n",
       "      <td>Open</td>\n",
       "    </tr>\n",
       "    <tr>\n",
       "      <th>1</th>\n",
       "      <td></td>\n",
       "      <td>Website</td>\n",
       "      <td>Sales-Agent-10</td>\n",
       "      <td></td>\n",
       "      <td>Mode-5</td>\n",
       "      <td>Open</td>\n",
       "    </tr>\n",
       "    <tr>\n",
       "      <th>2</th>\n",
       "      <td></td>\n",
       "      <td>Website</td>\n",
       "      <td>Sales-Agent-10</td>\n",
       "      <td></td>\n",
       "      <td>Mode-5</td>\n",
       "      <td>Open</td>\n",
       "    </tr>\n",
       "    <tr>\n",
       "      <th>3</th>\n",
       "      <td></td>\n",
       "      <td>Website</td>\n",
       "      <td>Sales-Agent-10</td>\n",
       "      <td></td>\n",
       "      <td>Mode-5</td>\n",
       "      <td>Open</td>\n",
       "    </tr>\n",
       "    <tr>\n",
       "      <th>4</th>\n",
       "      <td></td>\n",
       "      <td>Website</td>\n",
       "      <td>Sales-Agent-10</td>\n",
       "      <td></td>\n",
       "      <td>Mode-5</td>\n",
       "      <td>Open</td>\n",
       "    </tr>\n",
       "    <tr>\n",
       "      <th>...</th>\n",
       "      <td>...</td>\n",
       "      <td>...</td>\n",
       "      <td>...</td>\n",
       "      <td>...</td>\n",
       "      <td>...</td>\n",
       "      <td>...</td>\n",
       "    </tr>\n",
       "    <tr>\n",
       "      <th>7417</th>\n",
       "      <td>9</td>\n",
       "      <td>Call</td>\n",
       "      <td>Sales-Agent-6</td>\n",
       "      <td>Mumbai</td>\n",
       "      <td>Mode-4</td>\n",
       "      <td>LOST</td>\n",
       "    </tr>\n",
       "    <tr>\n",
       "      <th>7418</th>\n",
       "      <td>15</td>\n",
       "      <td>Call</td>\n",
       "      <td>Sales-Agent-12</td>\n",
       "      <td>Other Locations</td>\n",
       "      <td>Mode-5</td>\n",
       "      <td>LOST</td>\n",
       "    </tr>\n",
       "    <tr>\n",
       "      <th>7419</th>\n",
       "      <td>5</td>\n",
       "      <td>Live Chat-Direct</td>\n",
       "      <td>Sales-Agent-11</td>\n",
       "      <td>Bangalore</td>\n",
       "      <td>Mode-1</td>\n",
       "      <td>Not Responding</td>\n",
       "    </tr>\n",
       "    <tr>\n",
       "      <th>7420</th>\n",
       "      <td>21</td>\n",
       "      <td>CRM form</td>\n",
       "      <td>Sales-Agent-4</td>\n",
       "      <td>Other Locations</td>\n",
       "      <td>Mode-1</td>\n",
       "      <td>Just Enquiry</td>\n",
       "    </tr>\n",
       "    <tr>\n",
       "      <th>7421</th>\n",
       "      <td>25</td>\n",
       "      <td>Website</td>\n",
       "      <td>Sales-Agent-3</td>\n",
       "      <td>Chennai</td>\n",
       "      <td>Mode-1</td>\n",
       "      <td>CONVERTED</td>\n",
       "    </tr>\n",
       "  </tbody>\n",
       "</table>\n",
       "<p>7422 rows × 6 columns</p>\n",
       "</div>"
      ],
      "text/plain": [
       "     Product_ID            Source     Sales_Agent         Location  \\\n",
       "0                         Website  Sales-Agent-11                    \n",
       "1                         Website  Sales-Agent-10                    \n",
       "2                         Website  Sales-Agent-10                    \n",
       "3                         Website  Sales-Agent-10                    \n",
       "4                         Website  Sales-Agent-10                    \n",
       "...         ...               ...             ...              ...   \n",
       "7417          9              Call   Sales-Agent-6           Mumbai   \n",
       "7418         15              Call  Sales-Agent-12  Other Locations   \n",
       "7419          5  Live Chat-Direct  Sales-Agent-11        Bangalore   \n",
       "7420         21          CRM form   Sales-Agent-4  Other Locations   \n",
       "7421         25           Website   Sales-Agent-3          Chennai   \n",
       "\n",
       "     Delivery_Mode          Status  \n",
       "0           Mode-5            Open  \n",
       "1           Mode-5            Open  \n",
       "2           Mode-5            Open  \n",
       "3           Mode-5            Open  \n",
       "4           Mode-5            Open  \n",
       "...            ...             ...  \n",
       "7417        Mode-4            LOST  \n",
       "7418        Mode-5            LOST  \n",
       "7419        Mode-1  Not Responding  \n",
       "7420        Mode-1    Just Enquiry  \n",
       "7421        Mode-1       CONVERTED  \n",
       "\n",
       "[7422 rows x 6 columns]"
      ]
     },
     "execution_count": 18,
     "metadata": {},
     "output_type": "execute_result"
    }
   ],
   "source": [
    "data"
   ]
  },
  {
   "cell_type": "code",
   "execution_count": 19,
   "id": "24c94009",
   "metadata": {
    "scrolled": true
   },
   "outputs": [
    {
     "data": {
      "text/plain": [
       "Product_ID       object\n",
       "Source           object\n",
       "Sales_Agent      object\n",
       "Location         object\n",
       "Delivery_Mode    object\n",
       "Status           object\n",
       "dtype: object"
      ]
     },
     "execution_count": 19,
     "metadata": {},
     "output_type": "execute_result"
    }
   ],
   "source": [
    "data.dtypes"
   ]
  },
  {
   "cell_type": "code",
   "execution_count": 20,
   "id": "d08354e6",
   "metadata": {},
   "outputs": [
    {
     "data": {
      "text/plain": [
       "array(['', '9', '19', '18', '15', '27', '5', '2', '3', '25', '10', '20',\n",
       "       '11', '21', '1', '12', '13', '17', '24', '26', '16', '23', '22',\n",
       "       '8', '14', '6', '0', '28', '7', '4'], dtype=object)"
      ]
     },
     "execution_count": 20,
     "metadata": {},
     "output_type": "execute_result"
    }
   ],
   "source": [
    "data['Product_ID'].unique()"
   ]
  },
  {
   "cell_type": "code",
   "execution_count": 21,
   "id": "fead68cb",
   "metadata": {},
   "outputs": [
    {
     "data": {
      "text/plain": [
       "array(['', 'Bangalore', 'Other Locations', 'UAE', 'Trivandrum',\n",
       "       'Hyderabad', 'Chennai', 'UK', 'USA', 'Delhi', 'Mumbai', 'Kolkata',\n",
       "       'Singapore', 'Pune', 'AUSTRALIA', 'EUROPE', 'Malaysia', 'Howrah'],\n",
       "      dtype=object)"
      ]
     },
     "execution_count": 21,
     "metadata": {},
     "output_type": "execute_result"
    }
   ],
   "source": [
    "data['Location'].unique()"
   ]
  },
  {
   "cell_type": "markdown",
   "id": "fd805d03",
   "metadata": {},
   "source": [
    "#### Replacing Empty strings with NaN values"
   ]
  },
  {
   "cell_type": "code",
   "execution_count": 22,
   "id": "e2693c0d",
   "metadata": {},
   "outputs": [],
   "source": [
    "data.replace('',pd.NA,inplace=True)"
   ]
  },
  {
   "cell_type": "code",
   "execution_count": 23,
   "id": "b4d6c315",
   "metadata": {},
   "outputs": [
    {
     "data": {
      "text/html": [
       "<div>\n",
       "<style scoped>\n",
       "    .dataframe tbody tr th:only-of-type {\n",
       "        vertical-align: middle;\n",
       "    }\n",
       "\n",
       "    .dataframe tbody tr th {\n",
       "        vertical-align: top;\n",
       "    }\n",
       "\n",
       "    .dataframe thead th {\n",
       "        text-align: right;\n",
       "    }\n",
       "</style>\n",
       "<table border=\"1\" class=\"dataframe\">\n",
       "  <thead>\n",
       "    <tr style=\"text-align: right;\">\n",
       "      <th></th>\n",
       "      <th>Product_ID</th>\n",
       "      <th>Source</th>\n",
       "      <th>Sales_Agent</th>\n",
       "      <th>Location</th>\n",
       "      <th>Delivery_Mode</th>\n",
       "      <th>Status</th>\n",
       "    </tr>\n",
       "  </thead>\n",
       "  <tbody>\n",
       "    <tr>\n",
       "      <th>0</th>\n",
       "      <td>NaN</td>\n",
       "      <td>Website</td>\n",
       "      <td>Sales-Agent-11</td>\n",
       "      <td>NaN</td>\n",
       "      <td>Mode-5</td>\n",
       "      <td>Open</td>\n",
       "    </tr>\n",
       "    <tr>\n",
       "      <th>1</th>\n",
       "      <td>NaN</td>\n",
       "      <td>Website</td>\n",
       "      <td>Sales-Agent-10</td>\n",
       "      <td>NaN</td>\n",
       "      <td>Mode-5</td>\n",
       "      <td>Open</td>\n",
       "    </tr>\n",
       "    <tr>\n",
       "      <th>2</th>\n",
       "      <td>NaN</td>\n",
       "      <td>Website</td>\n",
       "      <td>Sales-Agent-10</td>\n",
       "      <td>NaN</td>\n",
       "      <td>Mode-5</td>\n",
       "      <td>Open</td>\n",
       "    </tr>\n",
       "    <tr>\n",
       "      <th>3</th>\n",
       "      <td>NaN</td>\n",
       "      <td>Website</td>\n",
       "      <td>Sales-Agent-10</td>\n",
       "      <td>NaN</td>\n",
       "      <td>Mode-5</td>\n",
       "      <td>Open</td>\n",
       "    </tr>\n",
       "    <tr>\n",
       "      <th>4</th>\n",
       "      <td>NaN</td>\n",
       "      <td>Website</td>\n",
       "      <td>Sales-Agent-10</td>\n",
       "      <td>NaN</td>\n",
       "      <td>Mode-5</td>\n",
       "      <td>Open</td>\n",
       "    </tr>\n",
       "    <tr>\n",
       "      <th>...</th>\n",
       "      <td>...</td>\n",
       "      <td>...</td>\n",
       "      <td>...</td>\n",
       "      <td>...</td>\n",
       "      <td>...</td>\n",
       "      <td>...</td>\n",
       "    </tr>\n",
       "    <tr>\n",
       "      <th>7417</th>\n",
       "      <td>9</td>\n",
       "      <td>Call</td>\n",
       "      <td>Sales-Agent-6</td>\n",
       "      <td>Mumbai</td>\n",
       "      <td>Mode-4</td>\n",
       "      <td>LOST</td>\n",
       "    </tr>\n",
       "    <tr>\n",
       "      <th>7418</th>\n",
       "      <td>15</td>\n",
       "      <td>Call</td>\n",
       "      <td>Sales-Agent-12</td>\n",
       "      <td>Other Locations</td>\n",
       "      <td>Mode-5</td>\n",
       "      <td>LOST</td>\n",
       "    </tr>\n",
       "    <tr>\n",
       "      <th>7419</th>\n",
       "      <td>5</td>\n",
       "      <td>Live Chat-Direct</td>\n",
       "      <td>Sales-Agent-11</td>\n",
       "      <td>Bangalore</td>\n",
       "      <td>Mode-1</td>\n",
       "      <td>Not Responding</td>\n",
       "    </tr>\n",
       "    <tr>\n",
       "      <th>7420</th>\n",
       "      <td>21</td>\n",
       "      <td>CRM form</td>\n",
       "      <td>Sales-Agent-4</td>\n",
       "      <td>Other Locations</td>\n",
       "      <td>Mode-1</td>\n",
       "      <td>Just Enquiry</td>\n",
       "    </tr>\n",
       "    <tr>\n",
       "      <th>7421</th>\n",
       "      <td>25</td>\n",
       "      <td>Website</td>\n",
       "      <td>Sales-Agent-3</td>\n",
       "      <td>Chennai</td>\n",
       "      <td>Mode-1</td>\n",
       "      <td>CONVERTED</td>\n",
       "    </tr>\n",
       "  </tbody>\n",
       "</table>\n",
       "<p>7422 rows × 6 columns</p>\n",
       "</div>"
      ],
      "text/plain": [
       "     Product_ID            Source     Sales_Agent         Location  \\\n",
       "0           NaN           Website  Sales-Agent-11              NaN   \n",
       "1           NaN           Website  Sales-Agent-10              NaN   \n",
       "2           NaN           Website  Sales-Agent-10              NaN   \n",
       "3           NaN           Website  Sales-Agent-10              NaN   \n",
       "4           NaN           Website  Sales-Agent-10              NaN   \n",
       "...         ...               ...             ...              ...   \n",
       "7417          9              Call   Sales-Agent-6           Mumbai   \n",
       "7418         15              Call  Sales-Agent-12  Other Locations   \n",
       "7419          5  Live Chat-Direct  Sales-Agent-11        Bangalore   \n",
       "7420         21          CRM form   Sales-Agent-4  Other Locations   \n",
       "7421         25           Website   Sales-Agent-3          Chennai   \n",
       "\n",
       "     Delivery_Mode          Status  \n",
       "0           Mode-5            Open  \n",
       "1           Mode-5            Open  \n",
       "2           Mode-5            Open  \n",
       "3           Mode-5            Open  \n",
       "4           Mode-5            Open  \n",
       "...            ...             ...  \n",
       "7417        Mode-4            LOST  \n",
       "7418        Mode-5            LOST  \n",
       "7419        Mode-1  Not Responding  \n",
       "7420        Mode-1    Just Enquiry  \n",
       "7421        Mode-1       CONVERTED  \n",
       "\n",
       "[7422 rows x 6 columns]"
      ]
     },
     "execution_count": 23,
     "metadata": {},
     "output_type": "execute_result"
    }
   ],
   "source": [
    "data"
   ]
  },
  {
   "cell_type": "code",
   "execution_count": 24,
   "id": "72294bf3",
   "metadata": {},
   "outputs": [
    {
     "data": {
      "text/plain": [
       "Product_ID       58\n",
       "Source           17\n",
       "Sales_Agent      23\n",
       "Location         58\n",
       "Delivery_Mode     0\n",
       "Status            0\n",
       "dtype: int64"
      ]
     },
     "execution_count": 24,
     "metadata": {},
     "output_type": "execute_result"
    }
   ],
   "source": [
    "data.isnull().sum()"
   ]
  },
  {
   "cell_type": "markdown",
   "id": "8091e798",
   "metadata": {},
   "source": [
    "#### Removing missing rows"
   ]
  },
  {
   "cell_type": "code",
   "execution_count": 25,
   "id": "db0cb962",
   "metadata": {},
   "outputs": [],
   "source": [
    "data.dropna(subset=['Product_ID','Source','Sales_Agent','Location'],inplace=True)"
   ]
  },
  {
   "cell_type": "code",
   "execution_count": 26,
   "id": "b9bb9c8c",
   "metadata": {},
   "outputs": [
    {
     "data": {
      "text/plain": [
       "Product_ID       0\n",
       "Source           0\n",
       "Sales_Agent      0\n",
       "Location         0\n",
       "Delivery_Mode    0\n",
       "Status           0\n",
       "dtype: int64"
      ]
     },
     "execution_count": 26,
     "metadata": {},
     "output_type": "execute_result"
    }
   ],
   "source": [
    "data.isnull().sum()"
   ]
  },
  {
   "cell_type": "code",
   "execution_count": 27,
   "id": "2a8286bd",
   "metadata": {},
   "outputs": [
    {
     "data": {
      "text/plain": [
       "array(['9', '19', '18', '15', '27', '5', '2', '3', '25', '10', '20', '11',\n",
       "       '21', '1', '12', '13', '24', '26', '16', '23', '22', '8', '14',\n",
       "       '6', '17', '0', '28', '7', '4'], dtype=object)"
      ]
     },
     "execution_count": 27,
     "metadata": {},
     "output_type": "execute_result"
    }
   ],
   "source": [
    "data['Product_ID'].unique()"
   ]
  },
  {
   "cell_type": "markdown",
   "id": "baa44cb7",
   "metadata": {},
   "source": [
    "#### Defining Sources"
   ]
  },
  {
   "cell_type": "code",
   "execution_count": 28,
   "id": "05c7dfd1",
   "metadata": {},
   "outputs": [
    {
     "data": {
      "text/plain": [
       "array(['Live Chat-Google Organic', 'Call', 'Website', 'Live Chat-Direct',\n",
       "       'By Recommendation', 'Customer Referral', 'Live Chat-Blog',\n",
       "       'Live Chat -PPC', 'Live Chat-Google Ads',\n",
       "       'Live Chat-Adwords Remarketing', 'E-Mail Message',\n",
       "       'Existing Client', 'Live Chat-CPC', 'Existing Customer',\n",
       "       'Live Chat-Quora', 'US Website', 'Just Dial', 'Campaign', 'Other',\n",
       "       'E-mail Campaign', 'CRM form', 'SMS Campaign', 'Personal Contact',\n",
       "       'Live Chat-Youtube', 'Live Chat-Justdial'], dtype=object)"
      ]
     },
     "execution_count": 28,
     "metadata": {},
     "output_type": "execute_result"
    }
   ],
   "source": [
    "data['Source'].unique()"
   ]
  },
  {
   "cell_type": "code",
   "execution_count": 29,
   "id": "2bd7c01f",
   "metadata": {},
   "outputs": [],
   "source": [
    "data.Source.replace(['Live Chat-Google Organic','Live Chat-Direct','Live Chat-Blog','Live Chat -PPC','Live Chat-Google Ads',\n",
    "'Live Chat-Adwords Remarketing','Live Chat-Quora','Live Chat-Youtube','Live Chat-Justdial','Live Chat-CPC'],\n",
    "                    'Live Chat',inplace=True)"
   ]
  },
  {
   "cell_type": "code",
   "execution_count": 30,
   "id": "8b647ca3",
   "metadata": {},
   "outputs": [],
   "source": [
    "data.Source.replace(['Existing Client','CRM form','Personal Contact'],'Existing Customer',inplace=True)\n",
    "data.Source.replace('By Recommendation','Customer Referral',inplace=True)\n",
    "data.Source.replace(['US Website','Just Dial'],'Website',inplace=True)\n",
    "data.Source.replace(['E-mail Campaign','SMS Campaign','E-Mail Message','Other'],'Campaign',inplace=True)"
   ]
  },
  {
   "cell_type": "code",
   "execution_count": 31,
   "id": "95d730ee",
   "metadata": {},
   "outputs": [
    {
     "data": {
      "text/plain": [
       "array(['Live Chat', 'Call', 'Website', 'Customer Referral', 'Campaign',\n",
       "       'Existing Customer'], dtype=object)"
      ]
     },
     "execution_count": 31,
     "metadata": {},
     "output_type": "execute_result"
    }
   ],
   "source": [
    "data['Source'].unique()"
   ]
  },
  {
   "cell_type": "markdown",
   "id": "f0794521",
   "metadata": {},
   "source": [
    "#### Defining location"
   ]
  },
  {
   "cell_type": "code",
   "execution_count": 32,
   "id": "06e6baad",
   "metadata": {
    "scrolled": false
   },
   "outputs": [
    {
     "data": {
      "text/plain": [
       "array(['Bangalore', 'Other Locations', 'Trivandrum', 'Hyderabad',\n",
       "       'Chennai', 'UK', 'USA', 'Delhi', 'UAE', 'Mumbai', 'Kolkata',\n",
       "       'Singapore', 'Pune', 'AUSTRALIA', 'EUROPE', 'Malaysia', 'Howrah'],\n",
       "      dtype=object)"
      ]
     },
     "execution_count": 32,
     "metadata": {},
     "output_type": "execute_result"
    }
   ],
   "source": [
    "data['Location'].unique()"
   ]
  },
  {
   "cell_type": "code",
   "execution_count": 33,
   "id": "ce3924ff",
   "metadata": {},
   "outputs": [],
   "source": [
    "data.Location.replace(['UK','USA','UAE','Singapore','AUSTRALIA','EUROPE','Malaysia'],'Foreign',inplace=True)"
   ]
  },
  {
   "cell_type": "code",
   "execution_count": 34,
   "id": "d57d2d7c",
   "metadata": {},
   "outputs": [],
   "source": [
    "data.Location.replace(['Bangalore','Trivandrum','Hyderabad','Chennai','Delhi','Mumbai','Kolkata','Pune','Howrah'],\n",
    "                      'India',inplace=True)"
   ]
  },
  {
   "cell_type": "code",
   "execution_count": 35,
   "id": "3d3ae66e",
   "metadata": {},
   "outputs": [
    {
     "data": {
      "text/plain": [
       "array(['India', 'Other Locations', 'Foreign'], dtype=object)"
      ]
     },
     "execution_count": 35,
     "metadata": {},
     "output_type": "execute_result"
    }
   ],
   "source": [
    "data['Location'].unique()"
   ]
  },
  {
   "cell_type": "markdown",
   "id": "38c38c2c",
   "metadata": {},
   "source": [
    "#### Defining status as low potential and high potential"
   ]
  },
  {
   "cell_type": "code",
   "execution_count": 36,
   "id": "4ccc682f",
   "metadata": {},
   "outputs": [
    {
     "data": {
      "text/plain": [
       "array(['Potential', 'Not Responding', 'In Progress Positive',\n",
       "       'Just Enquiry', 'Junk Lead', 'CONVERTED', 'In Progress Negative',\n",
       "       'Open', 'LOST', 'Long Term', 'converted'], dtype=object)"
      ]
     },
     "execution_count": 36,
     "metadata": {},
     "output_type": "execute_result"
    }
   ],
   "source": [
    "data['Status'].unique()"
   ]
  },
  {
   "cell_type": "code",
   "execution_count": 37,
   "id": "79ba921c",
   "metadata": {},
   "outputs": [],
   "source": [
    "data['Status'].replace(['Potential', 'In Progress Positive', 'CONVERTED', 'Open',  'Long Term', 'converted'],\n",
    "                       'Good',inplace=True)"
   ]
  },
  {
   "cell_type": "code",
   "execution_count": 38,
   "id": "64e585f9",
   "metadata": {},
   "outputs": [],
   "source": [
    "data.Status.replace(['Not Responding', 'Just Enquiry','In Progress Negative', 'LOST', 'Junk Lead'],\n",
    "                    'Bad',inplace=True)"
   ]
  },
  {
   "cell_type": "code",
   "execution_count": 39,
   "id": "c5264fd1",
   "metadata": {},
   "outputs": [
    {
     "data": {
      "text/plain": [
       "array(['Good', 'Bad'], dtype=object)"
      ]
     },
     "execution_count": 39,
     "metadata": {},
     "output_type": "execute_result"
    }
   ],
   "source": [
    "data.Status.unique()"
   ]
  },
  {
   "cell_type": "code",
   "execution_count": 40,
   "id": "52d4d727",
   "metadata": {},
   "outputs": [
    {
     "data": {
      "text/html": [
       "<div>\n",
       "<style scoped>\n",
       "    .dataframe tbody tr th:only-of-type {\n",
       "        vertical-align: middle;\n",
       "    }\n",
       "\n",
       "    .dataframe tbody tr th {\n",
       "        vertical-align: top;\n",
       "    }\n",
       "\n",
       "    .dataframe thead th {\n",
       "        text-align: right;\n",
       "    }\n",
       "</style>\n",
       "<table border=\"1\" class=\"dataframe\">\n",
       "  <thead>\n",
       "    <tr style=\"text-align: right;\">\n",
       "      <th></th>\n",
       "      <th>Product_ID</th>\n",
       "      <th>Source</th>\n",
       "      <th>Sales_Agent</th>\n",
       "      <th>Location</th>\n",
       "      <th>Delivery_Mode</th>\n",
       "      <th>Status</th>\n",
       "    </tr>\n",
       "  </thead>\n",
       "  <tbody>\n",
       "    <tr>\n",
       "      <th>18</th>\n",
       "      <td>9</td>\n",
       "      <td>Live Chat</td>\n",
       "      <td>Sales-Agent-3</td>\n",
       "      <td>India</td>\n",
       "      <td>Mode-1</td>\n",
       "      <td>Good</td>\n",
       "    </tr>\n",
       "    <tr>\n",
       "      <th>19</th>\n",
       "      <td>19</td>\n",
       "      <td>Call</td>\n",
       "      <td>Sales-Agent-4</td>\n",
       "      <td>Other Locations</td>\n",
       "      <td>Mode-5</td>\n",
       "      <td>Good</td>\n",
       "    </tr>\n",
       "    <tr>\n",
       "      <th>24</th>\n",
       "      <td>18</td>\n",
       "      <td>Website</td>\n",
       "      <td>Sales-Agent-11</td>\n",
       "      <td>India</td>\n",
       "      <td>Mode-1</td>\n",
       "      <td>Good</td>\n",
       "    </tr>\n",
       "    <tr>\n",
       "      <th>25</th>\n",
       "      <td>15</td>\n",
       "      <td>Website</td>\n",
       "      <td>Sales-Agent-7</td>\n",
       "      <td>India</td>\n",
       "      <td>Mode-1</td>\n",
       "      <td>Bad</td>\n",
       "    </tr>\n",
       "    <tr>\n",
       "      <th>26</th>\n",
       "      <td>18</td>\n",
       "      <td>Call</td>\n",
       "      <td>Sales-Agent-7</td>\n",
       "      <td>India</td>\n",
       "      <td>Mode-1</td>\n",
       "      <td>Good</td>\n",
       "    </tr>\n",
       "  </tbody>\n",
       "</table>\n",
       "</div>"
      ],
      "text/plain": [
       "   Product_ID     Source     Sales_Agent         Location Delivery_Mode Status\n",
       "18          9  Live Chat   Sales-Agent-3            India        Mode-1   Good\n",
       "19         19       Call   Sales-Agent-4  Other Locations        Mode-5   Good\n",
       "24         18    Website  Sales-Agent-11            India        Mode-1   Good\n",
       "25         15    Website   Sales-Agent-7            India        Mode-1    Bad\n",
       "26         18       Call   Sales-Agent-7            India        Mode-1   Good"
      ]
     },
     "execution_count": 40,
     "metadata": {},
     "output_type": "execute_result"
    }
   ],
   "source": [
    "data.head()"
   ]
  },
  {
   "cell_type": "code",
   "execution_count": 41,
   "id": "598a0ced",
   "metadata": {},
   "outputs": [],
   "source": [
    "data.reset_index(inplace=True,drop=True)"
   ]
  },
  {
   "cell_type": "code",
   "execution_count": 42,
   "id": "4d1579e8",
   "metadata": {
    "scrolled": true
   },
   "outputs": [
    {
     "data": {
      "text/html": [
       "<div>\n",
       "<style scoped>\n",
       "    .dataframe tbody tr th:only-of-type {\n",
       "        vertical-align: middle;\n",
       "    }\n",
       "\n",
       "    .dataframe tbody tr th {\n",
       "        vertical-align: top;\n",
       "    }\n",
       "\n",
       "    .dataframe thead th {\n",
       "        text-align: right;\n",
       "    }\n",
       "</style>\n",
       "<table border=\"1\" class=\"dataframe\">\n",
       "  <thead>\n",
       "    <tr style=\"text-align: right;\">\n",
       "      <th></th>\n",
       "      <th>Product_ID</th>\n",
       "      <th>Source</th>\n",
       "      <th>Sales_Agent</th>\n",
       "      <th>Location</th>\n",
       "      <th>Delivery_Mode</th>\n",
       "      <th>Status</th>\n",
       "    </tr>\n",
       "  </thead>\n",
       "  <tbody>\n",
       "    <tr>\n",
       "      <th>0</th>\n",
       "      <td>9</td>\n",
       "      <td>Live Chat</td>\n",
       "      <td>Sales-Agent-3</td>\n",
       "      <td>India</td>\n",
       "      <td>Mode-1</td>\n",
       "      <td>Good</td>\n",
       "    </tr>\n",
       "    <tr>\n",
       "      <th>1</th>\n",
       "      <td>19</td>\n",
       "      <td>Call</td>\n",
       "      <td>Sales-Agent-4</td>\n",
       "      <td>Other Locations</td>\n",
       "      <td>Mode-5</td>\n",
       "      <td>Good</td>\n",
       "    </tr>\n",
       "    <tr>\n",
       "      <th>2</th>\n",
       "      <td>18</td>\n",
       "      <td>Website</td>\n",
       "      <td>Sales-Agent-11</td>\n",
       "      <td>India</td>\n",
       "      <td>Mode-1</td>\n",
       "      <td>Good</td>\n",
       "    </tr>\n",
       "    <tr>\n",
       "      <th>3</th>\n",
       "      <td>15</td>\n",
       "      <td>Website</td>\n",
       "      <td>Sales-Agent-7</td>\n",
       "      <td>India</td>\n",
       "      <td>Mode-1</td>\n",
       "      <td>Bad</td>\n",
       "    </tr>\n",
       "    <tr>\n",
       "      <th>4</th>\n",
       "      <td>18</td>\n",
       "      <td>Call</td>\n",
       "      <td>Sales-Agent-7</td>\n",
       "      <td>India</td>\n",
       "      <td>Mode-1</td>\n",
       "      <td>Good</td>\n",
       "    </tr>\n",
       "  </tbody>\n",
       "</table>\n",
       "</div>"
      ],
      "text/plain": [
       "  Product_ID     Source     Sales_Agent         Location Delivery_Mode Status\n",
       "0          9  Live Chat   Sales-Agent-3            India        Mode-1   Good\n",
       "1         19       Call   Sales-Agent-4  Other Locations        Mode-5   Good\n",
       "2         18    Website  Sales-Agent-11            India        Mode-1   Good\n",
       "3         15    Website   Sales-Agent-7            India        Mode-1    Bad\n",
       "4         18       Call   Sales-Agent-7            India        Mode-1   Good"
      ]
     },
     "execution_count": 42,
     "metadata": {},
     "output_type": "execute_result"
    }
   ],
   "source": [
    "data.head()"
   ]
  },
  {
   "cell_type": "markdown",
   "id": "0d314acd",
   "metadata": {},
   "source": [
    "# Exploratory Data Analysis"
   ]
  },
  {
   "cell_type": "markdown",
   "id": "b09c9597",
   "metadata": {},
   "source": [
    "#### Bivariate Analysis"
   ]
  },
  {
   "cell_type": "code",
   "execution_count": 43,
   "id": "93c39486",
   "metadata": {
    "scrolled": false
   },
   "outputs": [
    {
     "data": {
      "image/png": "[encoded data removed]",
      "text/plain": [
       "<Figure size 2000x1500 with 6 Axes>"
      ]
     },
     "metadata": {},
     "output_type": "display_data"
    }
   ],
   "source": [
    "plt.figure(figsize=(20,15))\n",
    "plt.subplot(2,3,1)\n",
    "sns.countplot(y='Product_ID',data=data)\n",
    "plt.subplot(2,3,2)\n",
    "sns.countplot(y='Source',data=data)\n",
    "plt.subplot(2,3,3)\n",
    "sns.countplot(y='Sales_Agent',data=data)\n",
    "plt.subplot(2,3,4)\n",
    "sns.countplot(x='Location',data=data)\n",
    "plt.subplot(2,3,5)\n",
    "sns.countplot(x='Delivery_Mode',data=data)\n",
    "plt.subplot(2,3,6)\n",
    "sns.countplot(x='Status',data=data)\n",
    "plt.show()"
   ]
  },
  {
   "cell_type": "markdown",
   "id": "36fffd7e",
   "metadata": {},
   "source": [
    "#### Data Visualization"
   ]
  },
  {
   "cell_type": "code",
   "execution_count": 44,
   "id": "655e4214",
   "metadata": {
    "scrolled": false
   },
   "outputs": [
    {
     "data": {
      "image/png": "[encoded data removed]",
      "text/plain": [
       "<Figure size 1000x600 with 1 Axes>"
      ]
     },
     "metadata": {},
     "output_type": "display_data"
    }
   ],
   "source": [
    "plt.figure(figsize=(10,6))\n",
    "sns.countplot(x='Source',hue='Status',data=data)\n",
    "plt.xlabel(\"Source\")\n",
    "plt.ylabel(\"Status\")\n",
    "plt.title(\"Relationship Between Source & Status\")\n",
    "plt.show()"
   ]
  },
  {
   "cell_type": "markdown",
   "id": "2224b4a6",
   "metadata": {},
   "source": [
    "* Insights from the above plot : \n",
    "\n",
    "Among the different lead sources, Customer Referral, Campaign, and Existing Customer have less than 200 leads each. This indicates that the lead generation from these sources might require improvement or additional strategies.\n",
    "\n",
    "Live Chat and Call, on the other hand, have a nearly balanced proportion of high potential and low potential leads. They both have a total of 1000 high potential leads and 1600 low potential leads, suggesting effective lead engagement through these channels.\n",
    "\n",
    "For Website as a lead source, there are 590 high potential leads and 1150 low potential leads. This indicates that while the website is generating a substantial number of leads, there is a higher proportion of low potential leads compared to high potential leads."
   ]
  },
  {
   "cell_type": "code",
   "execution_count": 46,
   "id": "1e9781cd",
   "metadata": {},
   "outputs": [
    {
     "data": {
      "image/png": "[encoded data removed]",
      "text/plain": [
       "<Figure size 640x480 with 1 Axes>"
      ]
     },
     "metadata": {},
     "output_type": "display_data"
    }
   ],
   "source": [
    "sns.countplot(x='Delivery_Mode',hue='Status',data=data,palette={'Bad': 'red', 'Good': 'blue'})\n",
    "plt.xlabel(\"Delivery Mode\")\n",
    "plt.ylabel(\"Status\")\n",
    "plt.title(\"Relationship Between Delivery Mode & Status\")\n",
    "plt.show()"
   ]
  },
  {
   "cell_type": "markdown",
   "id": "98273164",
   "metadata": {},
   "source": [
    "* Insights from the above plot :\n",
    "\n",
    "In the context of Delivery Mode, Mode-1 yields 1400 high potential leads and 1300 low potential leads, suggesting a balanced performance in lead generation. However, Mode-5 delivers 700 high potential leads but has a significantly higher count of over 2000 low potential leads, indicating a potential inefficiency in lead targeting.\n",
    "\n",
    "On the other hand, Mode-2 and Mode-4 have near-zero leads, implying minimal or ineffective lead generation through these modes.\n",
    "\n",
    "Meanwhile, Mode-3 represents a medium-level performance in lead generation, without any significant skew towards either high or low potential leads.\n",
    "\n",
    "To optimize lead generation and sales effectiveness, it is essential to evaluate and refine the lead acquisition strategies for Modes 1, 5, and 3. Additionally, efforts should be made to improve the lead generation methods for Modes 2 and 4, to ensure a balanced and successful lead pipeline across all delivery modes."
   ]
  },
  {
   "cell_type": "code",
   "execution_count": 47,
   "id": "0f761210",
   "metadata": {},
   "outputs": [
    {
     "data": {
      "image/png": "[encoded data removed]",
      "text/plain": [
       "<Figure size 640x480 with 1 Axes>"
      ]
     },
     "metadata": {},
     "output_type": "display_data"
    }
   ],
   "source": [
    "sns.countplot(y='Sales_Agent',hue='Status',data=data)\n",
    "plt.xlabel(\"Sales Agent\")\n",
    "plt.ylabel(\"Status\")\n",
    "plt.title(\"Relationship Between Sales Agent & Status\")\n",
    "plt.show()"
   ]
  },
  {
   "cell_type": "markdown",
   "id": "4d121cf2",
   "metadata": {},
   "source": [
    "* Insights from the above plot :\n",
    "\n",
    "Among the sales agents, Sales Agent 4, 11, and 9 have the highest count of Low Potential leads, but interestingly, they also have the highest count of High Potential leads compared to all other sales agents. \n",
    "\n",
    "This indicates that these agents are effective in engaging with both Low and High Potential leads.\n",
    "\n",
    "On the other hand, Sales Agent 8, 2, 10, and 6 have less than 200 leads in their respective counts. "
   ]
  },
  {
   "cell_type": "code",
   "execution_count": 48,
   "id": "1e9f890b",
   "metadata": {},
   "outputs": [
    {
     "data": {
      "image/png": "[encoded data removed]",
      "text/plain": [
       "<Figure size 640x480 with 1 Axes>"
      ]
     },
     "metadata": {},
     "output_type": "display_data"
    }
   ],
   "source": [
    "sns.countplot(x='Location',hue='Status',data=data)\n",
    "plt.xlabel(\"Location\")\n",
    "plt.ylabel(\"Status\")\n",
    "plt.title(\"Relationship Between Location & Status\")\n",
    "plt.show()"
   ]
  },
  {
   "cell_type": "markdown",
   "id": "356bc0a1",
   "metadata": {},
   "source": [
    "* Insights from the above plot :\n",
    "\n",
    "In India, the proportion of High Potential and Low Potential locations is balanced. However, in other regions, Low Potential locations have a higher count compared to High Potential locations. Additionally, foreign locations have a very low count for both High and Low Potential regions."
   ]
  },
  {
   "cell_type": "code",
   "execution_count": 49,
   "id": "26aca1a0",
   "metadata": {},
   "outputs": [
    {
     "data": {
      "text/html": [
       "<div>\n",
       "<style scoped>\n",
       "    .dataframe tbody tr th:only-of-type {\n",
       "        vertical-align: middle;\n",
       "    }\n",
       "\n",
       "    .dataframe tbody tr th {\n",
       "        vertical-align: top;\n",
       "    }\n",
       "\n",
       "    .dataframe thead th {\n",
       "        text-align: right;\n",
       "    }\n",
       "</style>\n",
       "<table border=\"1\" class=\"dataframe\">\n",
       "  <thead>\n",
       "    <tr style=\"text-align: right;\">\n",
       "      <th></th>\n",
       "      <th>Product_ID</th>\n",
       "      <th>Source</th>\n",
       "      <th>Sales_Agent</th>\n",
       "      <th>Location</th>\n",
       "      <th>Delivery_Mode</th>\n",
       "      <th>Status</th>\n",
       "    </tr>\n",
       "  </thead>\n",
       "  <tbody>\n",
       "    <tr>\n",
       "      <th>0</th>\n",
       "      <td>9</td>\n",
       "      <td>Live Chat</td>\n",
       "      <td>Sales-Agent-3</td>\n",
       "      <td>India</td>\n",
       "      <td>Mode-1</td>\n",
       "      <td>Good</td>\n",
       "    </tr>\n",
       "    <tr>\n",
       "      <th>1</th>\n",
       "      <td>19</td>\n",
       "      <td>Call</td>\n",
       "      <td>Sales-Agent-4</td>\n",
       "      <td>Other Locations</td>\n",
       "      <td>Mode-5</td>\n",
       "      <td>Good</td>\n",
       "    </tr>\n",
       "    <tr>\n",
       "      <th>2</th>\n",
       "      <td>18</td>\n",
       "      <td>Website</td>\n",
       "      <td>Sales-Agent-11</td>\n",
       "      <td>India</td>\n",
       "      <td>Mode-1</td>\n",
       "      <td>Good</td>\n",
       "    </tr>\n",
       "    <tr>\n",
       "      <th>3</th>\n",
       "      <td>15</td>\n",
       "      <td>Website</td>\n",
       "      <td>Sales-Agent-7</td>\n",
       "      <td>India</td>\n",
       "      <td>Mode-1</td>\n",
       "      <td>Bad</td>\n",
       "    </tr>\n",
       "    <tr>\n",
       "      <th>4</th>\n",
       "      <td>18</td>\n",
       "      <td>Call</td>\n",
       "      <td>Sales-Agent-7</td>\n",
       "      <td>India</td>\n",
       "      <td>Mode-1</td>\n",
       "      <td>Good</td>\n",
       "    </tr>\n",
       "  </tbody>\n",
       "</table>\n",
       "</div>"
      ],
      "text/plain": [
       "  Product_ID     Source     Sales_Agent         Location Delivery_Mode Status\n",
       "0          9  Live Chat   Sales-Agent-3            India        Mode-1   Good\n",
       "1         19       Call   Sales-Agent-4  Other Locations        Mode-5   Good\n",
       "2         18    Website  Sales-Agent-11            India        Mode-1   Good\n",
       "3         15    Website   Sales-Agent-7            India        Mode-1    Bad\n",
       "4         18       Call   Sales-Agent-7            India        Mode-1   Good"
      ]
     },
     "execution_count": 49,
     "metadata": {},
     "output_type": "execute_result"
    }
   ],
   "source": [
    "data.head()"
   ]
  },
  {
   "cell_type": "markdown",
   "id": "9ccbe0bc",
   "metadata": {},
   "source": [
    "#### Converting Categorical to Numerical"
   ]
  },
  {
   "cell_type": "code",
   "execution_count": 50,
   "id": "39de6c20",
   "metadata": {},
   "outputs": [
    {
     "data": {
      "text/plain": [
       "LabelEncoder()"
      ]
     },
     "execution_count": 50,
     "metadata": {},
     "output_type": "execute_result"
    }
   ],
   "source": [
    "from sklearn.preprocessing import LabelEncoder\n",
    "label_encoder = LabelEncoder()\n",
    "label_encoder"
   ]
  },
  {
   "cell_type": "code",
   "execution_count": 51,
   "id": "57a701fb",
   "metadata": {},
   "outputs": [
    {
     "data": {
      "text/plain": [
       "array([28, 11, 10, ..., 24, 14, 18])"
      ]
     },
     "execution_count": 51,
     "metadata": {},
     "output_type": "execute_result"
    }
   ],
   "source": [
    "label_encoder.fit_transform(data['Product_ID'])"
   ]
  },
  {
   "cell_type": "code",
   "execution_count": 52,
   "id": "9d4870e3",
   "metadata": {},
   "outputs": [
    {
     "data": {
      "text/html": [
       "<div>\n",
       "<style scoped>\n",
       "    .dataframe tbody tr th:only-of-type {\n",
       "        vertical-align: middle;\n",
       "    }\n",
       "\n",
       "    .dataframe tbody tr th {\n",
       "        vertical-align: top;\n",
       "    }\n",
       "\n",
       "    .dataframe thead th {\n",
       "        text-align: right;\n",
       "    }\n",
       "</style>\n",
       "<table border=\"1\" class=\"dataframe\">\n",
       "  <thead>\n",
       "    <tr style=\"text-align: right;\">\n",
       "      <th></th>\n",
       "      <th>Product_ID</th>\n",
       "      <th>Source</th>\n",
       "      <th>Sales_Agent</th>\n",
       "      <th>Location</th>\n",
       "      <th>Delivery_Mode</th>\n",
       "      <th>Status</th>\n",
       "    </tr>\n",
       "  </thead>\n",
       "  <tbody>\n",
       "    <tr>\n",
       "      <th>0</th>\n",
       "      <td>9</td>\n",
       "      <td>Live Chat</td>\n",
       "      <td>Sales-Agent-3</td>\n",
       "      <td>India</td>\n",
       "      <td>Mode-1</td>\n",
       "      <td>Good</td>\n",
       "    </tr>\n",
       "    <tr>\n",
       "      <th>1</th>\n",
       "      <td>19</td>\n",
       "      <td>Call</td>\n",
       "      <td>Sales-Agent-4</td>\n",
       "      <td>Other Locations</td>\n",
       "      <td>Mode-5</td>\n",
       "      <td>Good</td>\n",
       "    </tr>\n",
       "    <tr>\n",
       "      <th>2</th>\n",
       "      <td>18</td>\n",
       "      <td>Website</td>\n",
       "      <td>Sales-Agent-11</td>\n",
       "      <td>India</td>\n",
       "      <td>Mode-1</td>\n",
       "      <td>Good</td>\n",
       "    </tr>\n",
       "    <tr>\n",
       "      <th>3</th>\n",
       "      <td>15</td>\n",
       "      <td>Website</td>\n",
       "      <td>Sales-Agent-7</td>\n",
       "      <td>India</td>\n",
       "      <td>Mode-1</td>\n",
       "      <td>Bad</td>\n",
       "    </tr>\n",
       "    <tr>\n",
       "      <th>4</th>\n",
       "      <td>18</td>\n",
       "      <td>Call</td>\n",
       "      <td>Sales-Agent-7</td>\n",
       "      <td>India</td>\n",
       "      <td>Mode-1</td>\n",
       "      <td>Good</td>\n",
       "    </tr>\n",
       "  </tbody>\n",
       "</table>\n",
       "</div>"
      ],
      "text/plain": [
       "  Product_ID     Source     Sales_Agent         Location Delivery_Mode Status\n",
       "0          9  Live Chat   Sales-Agent-3            India        Mode-1   Good\n",
       "1         19       Call   Sales-Agent-4  Other Locations        Mode-5   Good\n",
       "2         18    Website  Sales-Agent-11            India        Mode-1   Good\n",
       "3         15    Website   Sales-Agent-7            India        Mode-1    Bad\n",
       "4         18       Call   Sales-Agent-7            India        Mode-1   Good"
      ]
     },
     "execution_count": 52,
     "metadata": {},
     "output_type": "execute_result"
    }
   ],
   "source": [
    "data.head()"
   ]
  },
  {
   "cell_type": "code",
   "execution_count": 53,
   "id": "b0d80ccb",
   "metadata": {},
   "outputs": [
    {
     "data": {
      "text/plain": [
       "Index(['Product_ID', 'Source', 'Sales_Agent', 'Location', 'Delivery_Mode',\n",
       "       'Status'],\n",
       "      dtype='object')"
      ]
     },
     "execution_count": 53,
     "metadata": {},
     "output_type": "execute_result"
    }
   ],
   "source": [
    "columns = data.columns\n",
    "columns"
   ]
  },
  {
   "cell_type": "code",
   "execution_count": 54,
   "id": "6e077bdc",
   "metadata": {},
   "outputs": [],
   "source": [
    "for col in columns:\n",
    "        data[col] = label_encoder.fit_transform(data[col])"
   ]
  },
  {
   "cell_type": "code",
   "execution_count": 55,
   "id": "eb7d69cf",
   "metadata": {},
   "outputs": [
    {
     "data": {
      "text/html": [
       "<div>\n",
       "<style scoped>\n",
       "    .dataframe tbody tr th:only-of-type {\n",
       "        vertical-align: middle;\n",
       "    }\n",
       "\n",
       "    .dataframe tbody tr th {\n",
       "        vertical-align: top;\n",
       "    }\n",
       "\n",
       "    .dataframe thead th {\n",
       "        text-align: right;\n",
       "    }\n",
       "</style>\n",
       "<table border=\"1\" class=\"dataframe\">\n",
       "  <thead>\n",
       "    <tr style=\"text-align: right;\">\n",
       "      <th></th>\n",
       "      <th>Product_ID</th>\n",
       "      <th>Source</th>\n",
       "      <th>Sales_Agent</th>\n",
       "      <th>Location</th>\n",
       "      <th>Delivery_Mode</th>\n",
       "      <th>Status</th>\n",
       "    </tr>\n",
       "  </thead>\n",
       "  <tbody>\n",
       "    <tr>\n",
       "      <th>0</th>\n",
       "      <td>28</td>\n",
       "      <td>4</td>\n",
       "      <td>4</td>\n",
       "      <td>1</td>\n",
       "      <td>0</td>\n",
       "      <td>1</td>\n",
       "    </tr>\n",
       "    <tr>\n",
       "      <th>1</th>\n",
       "      <td>11</td>\n",
       "      <td>0</td>\n",
       "      <td>5</td>\n",
       "      <td>2</td>\n",
       "      <td>4</td>\n",
       "      <td>1</td>\n",
       "    </tr>\n",
       "    <tr>\n",
       "      <th>2</th>\n",
       "      <td>10</td>\n",
       "      <td>5</td>\n",
       "      <td>1</td>\n",
       "      <td>1</td>\n",
       "      <td>0</td>\n",
       "      <td>1</td>\n",
       "    </tr>\n",
       "    <tr>\n",
       "      <th>3</th>\n",
       "      <td>7</td>\n",
       "      <td>5</td>\n",
       "      <td>8</td>\n",
       "      <td>1</td>\n",
       "      <td>0</td>\n",
       "      <td>0</td>\n",
       "    </tr>\n",
       "    <tr>\n",
       "      <th>4</th>\n",
       "      <td>10</td>\n",
       "      <td>0</td>\n",
       "      <td>8</td>\n",
       "      <td>1</td>\n",
       "      <td>0</td>\n",
       "      <td>1</td>\n",
       "    </tr>\n",
       "  </tbody>\n",
       "</table>\n",
       "</div>"
      ],
      "text/plain": [
       "   Product_ID  Source  Sales_Agent  Location  Delivery_Mode  Status\n",
       "0          28       4            4         1              0       1\n",
       "1          11       0            5         2              4       1\n",
       "2          10       5            1         1              0       1\n",
       "3           7       5            8         1              0       0\n",
       "4          10       0            8         1              0       1"
      ]
     },
     "execution_count": 55,
     "metadata": {},
     "output_type": "execute_result"
    }
   ],
   "source": [
    "data.head()"
   ]
  },
  {
   "cell_type": "code",
   "execution_count": 56,
   "id": "534081eb",
   "metadata": {},
   "outputs": [
    {
     "data": {
      "text/plain": [
       "Product_ID       int32\n",
       "Source           int32\n",
       "Sales_Agent      int32\n",
       "Location         int32\n",
       "Delivery_Mode    int32\n",
       "Status           int32\n",
       "dtype: object"
      ]
     },
     "execution_count": 56,
     "metadata": {},
     "output_type": "execute_result"
    }
   ],
   "source": [
    "data.dtypes"
   ]
  },
  {
   "cell_type": "code",
   "execution_count": 57,
   "id": "5e58159d",
   "metadata": {
    "scrolled": true
   },
   "outputs": [
    {
     "data": {
      "text/plain": [
       "0    4466\n",
       "1    2862\n",
       "Name: Status, dtype: int64"
      ]
     },
     "execution_count": 57,
     "metadata": {},
     "output_type": "execute_result"
    }
   ],
   "source": [
    "data.Status.value_counts()"
   ]
  },
  {
   "cell_type": "markdown",
   "id": "18ee7e09",
   "metadata": {},
   "source": [
    "The dataset demonstrates an imbalanced class distribution, with 4466 instances in class 1 and 2862 instances in class 0. To address this, we employ the SMOTE technique to balance the dataset and enhance the accuracy of predictive models."
   ]
  },
  {
   "cell_type": "markdown",
   "id": "157d8132",
   "metadata": {},
   "source": [
    "#### Balancing the dataset by using SMOTE oversampling technique"
   ]
  },
  {
   "cell_type": "code",
   "execution_count": 58,
   "id": "50ea0614",
   "metadata": {},
   "outputs": [
    {
     "data": {
      "text/plain": [
       "SMOTE()"
      ]
     },
     "execution_count": 58,
     "metadata": {},
     "output_type": "execute_result"
    }
   ],
   "source": [
    "from imblearn.over_sampling import SMOTE\n",
    "smote = SMOTE()\n",
    "smote"
   ]
  },
  {
   "cell_type": "code",
   "execution_count": 59,
   "id": "2db30a97",
   "metadata": {},
   "outputs": [],
   "source": [
    "X = data.drop(['Status'],axis=1)\n",
    "y = data.Status"
   ]
  },
  {
   "cell_type": "code",
   "execution_count": 60,
   "id": "27fc7dd6",
   "metadata": {},
   "outputs": [
    {
     "data": {
      "text/html": [
       "<div>\n",
       "<style scoped>\n",
       "    .dataframe tbody tr th:only-of-type {\n",
       "        vertical-align: middle;\n",
       "    }\n",
       "\n",
       "    .dataframe tbody tr th {\n",
       "        vertical-align: top;\n",
       "    }\n",
       "\n",
       "    .dataframe thead th {\n",
       "        text-align: right;\n",
       "    }\n",
       "</style>\n",
       "<table border=\"1\" class=\"dataframe\">\n",
       "  <thead>\n",
       "    <tr style=\"text-align: right;\">\n",
       "      <th></th>\n",
       "      <th>Product_ID</th>\n",
       "      <th>Source</th>\n",
       "      <th>Sales_Agent</th>\n",
       "      <th>Location</th>\n",
       "      <th>Delivery_Mode</th>\n",
       "    </tr>\n",
       "  </thead>\n",
       "  <tbody>\n",
       "    <tr>\n",
       "      <th>0</th>\n",
       "      <td>28</td>\n",
       "      <td>4</td>\n",
       "      <td>4</td>\n",
       "      <td>1</td>\n",
       "      <td>0</td>\n",
       "    </tr>\n",
       "    <tr>\n",
       "      <th>1</th>\n",
       "      <td>11</td>\n",
       "      <td>0</td>\n",
       "      <td>5</td>\n",
       "      <td>2</td>\n",
       "      <td>4</td>\n",
       "    </tr>\n",
       "    <tr>\n",
       "      <th>2</th>\n",
       "      <td>10</td>\n",
       "      <td>5</td>\n",
       "      <td>1</td>\n",
       "      <td>1</td>\n",
       "      <td>0</td>\n",
       "    </tr>\n",
       "    <tr>\n",
       "      <th>3</th>\n",
       "      <td>7</td>\n",
       "      <td>5</td>\n",
       "      <td>8</td>\n",
       "      <td>1</td>\n",
       "      <td>0</td>\n",
       "    </tr>\n",
       "    <tr>\n",
       "      <th>4</th>\n",
       "      <td>10</td>\n",
       "      <td>0</td>\n",
       "      <td>8</td>\n",
       "      <td>1</td>\n",
       "      <td>0</td>\n",
       "    </tr>\n",
       "  </tbody>\n",
       "</table>\n",
       "</div>"
      ],
      "text/plain": [
       "   Product_ID  Source  Sales_Agent  Location  Delivery_Mode\n",
       "0          28       4            4         1              0\n",
       "1          11       0            5         2              4\n",
       "2          10       5            1         1              0\n",
       "3           7       5            8         1              0\n",
       "4          10       0            8         1              0"
      ]
     },
     "execution_count": 60,
     "metadata": {},
     "output_type": "execute_result"
    }
   ],
   "source": [
    "X.head()"
   ]
  },
  {
   "cell_type": "code",
   "execution_count": 61,
   "id": "045fc659",
   "metadata": {},
   "outputs": [
    {
     "data": {
      "text/plain": [
       "0    1\n",
       "1    1\n",
       "2    1\n",
       "3    0\n",
       "4    1\n",
       "Name: Status, dtype: int32"
      ]
     },
     "execution_count": 61,
     "metadata": {},
     "output_type": "execute_result"
    }
   ],
   "source": [
    "y.head()"
   ]
  },
  {
   "cell_type": "code",
   "execution_count": 62,
   "id": "4d7ad619",
   "metadata": {},
   "outputs": [],
   "source": [
    "X_resampled, y_resampled = smote.fit_resample(X,y)"
   ]
  },
  {
   "cell_type": "code",
   "execution_count": 63,
   "id": "e9e97de4",
   "metadata": {},
   "outputs": [
    {
     "name": "stdout",
     "output_type": "stream",
     "text": [
      "7328\n",
      "8932\n"
     ]
    }
   ],
   "source": [
    "print(len(X))\n",
    "print(len(X_resampled))"
   ]
  },
  {
   "cell_type": "code",
   "execution_count": 64,
   "id": "e32e013d",
   "metadata": {},
   "outputs": [
    {
     "name": "stdout",
     "output_type": "stream",
     "text": [
      "0    4466\n",
      "1    2862\n",
      "Name: Status, dtype: int64\n"
     ]
    }
   ],
   "source": [
    "print(y.value_counts())"
   ]
  },
  {
   "cell_type": "code",
   "execution_count": 65,
   "id": "c0956c92",
   "metadata": {
    "scrolled": true
   },
   "outputs": [
    {
     "name": "stdout",
     "output_type": "stream",
     "text": [
      "1    4466\n",
      "0    4466\n",
      "Name: Status, dtype: int64\n"
     ]
    }
   ],
   "source": [
    "print(y_resampled.value_counts())"
   ]
  },
  {
   "cell_type": "markdown",
   "id": "1939d192",
   "metadata": {},
   "source": [
    "# Feature Selection"
   ]
  },
  {
   "cell_type": "code",
   "execution_count": 66,
   "id": "4ec06c05",
   "metadata": {},
   "outputs": [
    {
     "data": {
      "text/html": [
       "<div>\n",
       "<style scoped>\n",
       "    .dataframe tbody tr th:only-of-type {\n",
       "        vertical-align: middle;\n",
       "    }\n",
       "\n",
       "    .dataframe tbody tr th {\n",
       "        vertical-align: top;\n",
       "    }\n",
       "\n",
       "    .dataframe thead th {\n",
       "        text-align: right;\n",
       "    }\n",
       "</style>\n",
       "<table border=\"1\" class=\"dataframe\">\n",
       "  <thead>\n",
       "    <tr style=\"text-align: right;\">\n",
       "      <th></th>\n",
       "      <th>Product_ID</th>\n",
       "      <th>Source</th>\n",
       "      <th>Sales_Agent</th>\n",
       "      <th>Location</th>\n",
       "      <th>Delivery_Mode</th>\n",
       "      <th>Status</th>\n",
       "    </tr>\n",
       "  </thead>\n",
       "  <tbody>\n",
       "    <tr>\n",
       "      <th>Product_ID</th>\n",
       "      <td>1.000000</td>\n",
       "      <td>0.067209</td>\n",
       "      <td>0.062694</td>\n",
       "      <td>-0.268012</td>\n",
       "      <td>-0.179129</td>\n",
       "      <td>0.133166</td>\n",
       "    </tr>\n",
       "    <tr>\n",
       "      <th>Source</th>\n",
       "      <td>0.067209</td>\n",
       "      <td>1.000000</td>\n",
       "      <td>-0.023186</td>\n",
       "      <td>-0.113249</td>\n",
       "      <td>-0.216516</td>\n",
       "      <td>-0.015411</td>\n",
       "    </tr>\n",
       "    <tr>\n",
       "      <th>Sales_Agent</th>\n",
       "      <td>0.062694</td>\n",
       "      <td>-0.023186</td>\n",
       "      <td>1.000000</td>\n",
       "      <td>-0.067451</td>\n",
       "      <td>-0.224688</td>\n",
       "      <td>0.137074</td>\n",
       "    </tr>\n",
       "    <tr>\n",
       "      <th>Location</th>\n",
       "      <td>-0.268012</td>\n",
       "      <td>-0.113249</td>\n",
       "      <td>-0.067451</td>\n",
       "      <td>1.000000</td>\n",
       "      <td>0.297702</td>\n",
       "      <td>-0.293663</td>\n",
       "    </tr>\n",
       "    <tr>\n",
       "      <th>Delivery_Mode</th>\n",
       "      <td>-0.179129</td>\n",
       "      <td>-0.216516</td>\n",
       "      <td>-0.224688</td>\n",
       "      <td>0.297702</td>\n",
       "      <td>1.000000</td>\n",
       "      <td>-0.220445</td>\n",
       "    </tr>\n",
       "    <tr>\n",
       "      <th>Status</th>\n",
       "      <td>0.133166</td>\n",
       "      <td>-0.015411</td>\n",
       "      <td>0.137074</td>\n",
       "      <td>-0.293663</td>\n",
       "      <td>-0.220445</td>\n",
       "      <td>1.000000</td>\n",
       "    </tr>\n",
       "  </tbody>\n",
       "</table>\n",
       "</div>"
      ],
      "text/plain": [
       "               Product_ID    Source  Sales_Agent  Location  Delivery_Mode  \\\n",
       "Product_ID       1.000000  0.067209     0.062694 -0.268012      -0.179129   \n",
       "Source           0.067209  1.000000    -0.023186 -0.113249      -0.216516   \n",
       "Sales_Agent      0.062694 -0.023186     1.000000 -0.067451      -0.224688   \n",
       "Location        -0.268012 -0.113249    -0.067451  1.000000       0.297702   \n",
       "Delivery_Mode   -0.179129 -0.216516    -0.224688  0.297702       1.000000   \n",
       "Status           0.133166 -0.015411     0.137074 -0.293663      -0.220445   \n",
       "\n",
       "                 Status  \n",
       "Product_ID     0.133166  \n",
       "Source        -0.015411  \n",
       "Sales_Agent    0.137074  \n",
       "Location      -0.293663  \n",
       "Delivery_Mode -0.220445  \n",
       "Status         1.000000  "
      ]
     },
     "execution_count": 66,
     "metadata": {},
     "output_type": "execute_result"
    }
   ],
   "source": [
    "data.corr()"
   ]
  },
  {
   "cell_type": "code",
   "execution_count": 67,
   "id": "a6118f13",
   "metadata": {},
   "outputs": [
    {
     "data": {
      "image/png": "[encoded data removed]",
      "text/plain": [
       "<Figure size 640x480 with 2 Axes>"
      ]
     },
     "metadata": {},
     "output_type": "display_data"
    }
   ],
   "source": [
    "sns.heatmap(data.corr(),annot=True)\n",
    "plt.show()"
   ]
  },
  {
   "cell_type": "markdown",
   "id": "3f4f4a1b",
   "metadata": {},
   "source": [
    "There are no significant correlations found among the features in the dataset."
   ]
  },
  {
   "cell_type": "markdown",
   "id": "5421f8c9",
   "metadata": {},
   "source": [
    "# Train Test Split"
   ]
  },
  {
   "cell_type": "code",
   "execution_count": 68,
   "id": "b4995718",
   "metadata": {},
   "outputs": [],
   "source": [
    "from sklearn.model_selection import train_test_split\n",
    "X_train, X_test, y_train, y_test = train_test_split(X_resampled,y_resampled,test_size=0.2,random_state=42)"
   ]
  },
  {
   "cell_type": "code",
   "execution_count": 69,
   "id": "8ebc6302",
   "metadata": {},
   "outputs": [
    {
     "name": "stdout",
     "output_type": "stream",
     "text": [
      "7145\n",
      "1787\n"
     ]
    }
   ],
   "source": [
    "print(len(X_train))\n",
    "print(len(X_test))"
   ]
  },
  {
   "cell_type": "markdown",
   "id": "2a41e8e4",
   "metadata": {},
   "source": [
    "# Model Selection "
   ]
  },
  {
   "cell_type": "markdown",
   "id": "2284ab71",
   "metadata": {},
   "source": [
    "# 1. Logistic Regression"
   ]
  },
  {
   "cell_type": "markdown",
   "id": "0088dbb0",
   "metadata": {},
   "source": [
    "* Model Creation"
   ]
  },
  {
   "cell_type": "code",
   "execution_count": 70,
   "id": "07cf6aa3",
   "metadata": {},
   "outputs": [
    {
     "data": {
      "text/plain": [
       "LogisticRegression()"
      ]
     },
     "execution_count": 70,
     "metadata": {},
     "output_type": "execute_result"
    }
   ],
   "source": [
    "from sklearn.linear_model import LogisticRegression\n",
    "LR_Model = LogisticRegression()\n",
    "LR_Model"
   ]
  },
  {
   "cell_type": "markdown",
   "id": "6c19aedb",
   "metadata": {},
   "source": [
    "* Model Training"
   ]
  },
  {
   "cell_type": "code",
   "execution_count": 71,
   "id": "b5bb4465",
   "metadata": {},
   "outputs": [
    {
     "data": {
      "text/plain": [
       "LogisticRegression()"
      ]
     },
     "execution_count": 71,
     "metadata": {},
     "output_type": "execute_result"
    }
   ],
   "source": [
    "LR_Model.fit(X_train,y_train)"
   ]
  },
  {
   "cell_type": "markdown",
   "id": "b26ccbc9",
   "metadata": {},
   "source": [
    "* Model Prediction"
   ]
  },
  {
   "cell_type": "code",
   "execution_count": 72,
   "id": "47dc9322",
   "metadata": {},
   "outputs": [
    {
     "data": {
      "text/plain": [
       "array([1, 1, 1, ..., 1, 1, 1])"
      ]
     },
     "execution_count": 72,
     "metadata": {},
     "output_type": "execute_result"
    }
   ],
   "source": [
    "y_pred = LR_Model.predict(X_test)\n",
    "y_pred"
   ]
  },
  {
   "cell_type": "markdown",
   "id": "4abe1920",
   "metadata": {},
   "source": [
    "* Model Accuracy"
   ]
  },
  {
   "cell_type": "code",
   "execution_count": 73,
   "id": "768c33a0",
   "metadata": {},
   "outputs": [
    {
     "data": {
      "text/plain": [
       "0.6687185226636821"
      ]
     },
     "execution_count": 73,
     "metadata": {},
     "output_type": "execute_result"
    }
   ],
   "source": [
    "from sklearn.metrics import accuracy_score\n",
    "accuracy_score(y_test,y_pred)"
   ]
  },
  {
   "cell_type": "code",
   "execution_count": 74,
   "id": "7e1cf135",
   "metadata": {},
   "outputs": [
    {
     "name": "stdout",
     "output_type": "stream",
     "text": [
      "              precision    recall  f1-score   support\n",
      "\n",
      "           0       0.68      0.60      0.64       863\n",
      "           1       0.66      0.73      0.69       924\n",
      "\n",
      "    accuracy                           0.67      1787\n",
      "   macro avg       0.67      0.67      0.67      1787\n",
      "weighted avg       0.67      0.67      0.67      1787\n",
      "\n"
     ]
    }
   ],
   "source": [
    "from sklearn.metrics import classification_report\n",
    "print(classification_report(y_test,y_pred))"
   ]
  },
  {
   "cell_type": "markdown",
   "id": "1ccb8d44",
   "metadata": {},
   "source": [
    "# 2. Support Vector Classifier"
   ]
  },
  {
   "cell_type": "code",
   "execution_count": 75,
   "id": "72316236",
   "metadata": {},
   "outputs": [
    {
     "data": {
      "text/plain": [
       "SVC()"
      ]
     },
     "execution_count": 75,
     "metadata": {},
     "output_type": "execute_result"
    }
   ],
   "source": [
    "from sklearn.svm import SVC\n",
    "svc_model = SVC()\n",
    "svc_model "
   ]
  },
  {
   "cell_type": "code",
   "execution_count": 76,
   "id": "5142aa02",
   "metadata": {},
   "outputs": [
    {
     "data": {
      "text/plain": [
       "SVC()"
      ]
     },
     "execution_count": 76,
     "metadata": {},
     "output_type": "execute_result"
    }
   ],
   "source": [
    "svc_model.fit(X_train,y_train)"
   ]
  },
  {
   "cell_type": "code",
   "execution_count": 77,
   "id": "a327f522",
   "metadata": {},
   "outputs": [
    {
     "data": {
      "text/plain": [
       "array([1, 1, 1, ..., 1, 1, 1])"
      ]
     },
     "execution_count": 77,
     "metadata": {},
     "output_type": "execute_result"
    }
   ],
   "source": [
    "y_pred = svc_model.predict(X_test)\n",
    "y_pred"
   ]
  },
  {
   "cell_type": "code",
   "execution_count": 78,
   "id": "a88758ff",
   "metadata": {},
   "outputs": [
    {
     "data": {
      "text/plain": [
       "0.6843872411863459"
      ]
     },
     "execution_count": 78,
     "metadata": {},
     "output_type": "execute_result"
    }
   ],
   "source": [
    "accuracy_score(y_test,y_pred)"
   ]
  },
  {
   "cell_type": "code",
   "execution_count": 79,
   "id": "97c6f71a",
   "metadata": {},
   "outputs": [
    {
     "name": "stdout",
     "output_type": "stream",
     "text": [
      "              precision    recall  f1-score   support\n",
      "\n",
      "           0       0.70      0.61      0.65       863\n",
      "           1       0.67      0.76      0.71       924\n",
      "\n",
      "    accuracy                           0.68      1787\n",
      "   macro avg       0.69      0.68      0.68      1787\n",
      "weighted avg       0.69      0.68      0.68      1787\n",
      "\n"
     ]
    }
   ],
   "source": [
    "print(classification_report(y_test,y_pred))"
   ]
  },
  {
   "cell_type": "markdown",
   "id": "6a0527e3",
   "metadata": {},
   "source": [
    "# 3. Decision Tree Classifier"
   ]
  },
  {
   "cell_type": "code",
   "execution_count": 80,
   "id": "74e836ac",
   "metadata": {},
   "outputs": [
    {
     "data": {
      "text/plain": [
       "DecisionTreeClassifier()"
      ]
     },
     "execution_count": 80,
     "metadata": {},
     "output_type": "execute_result"
    }
   ],
   "source": [
    "from sklearn.tree import DecisionTreeClassifier\n",
    "DT_Model = DecisionTreeClassifier()\n",
    "DT_Model"
   ]
  },
  {
   "cell_type": "code",
   "execution_count": 81,
   "id": "0682c184",
   "metadata": {},
   "outputs": [
    {
     "data": {
      "text/plain": [
       "DecisionTreeClassifier()"
      ]
     },
     "execution_count": 81,
     "metadata": {},
     "output_type": "execute_result"
    }
   ],
   "source": [
    "DT_Model.fit(X_train,y_train)"
   ]
  },
  {
   "cell_type": "code",
   "execution_count": 82,
   "id": "6bcc5a81",
   "metadata": {},
   "outputs": [
    {
     "data": {
      "text/plain": [
       "array([0, 1, 0, ..., 1, 1, 0])"
      ]
     },
     "execution_count": 82,
     "metadata": {},
     "output_type": "execute_result"
    }
   ],
   "source": [
    "y_pred = DT_Model.predict(X_test)\n",
    "y_pred"
   ]
  },
  {
   "cell_type": "code",
   "execution_count": 83,
   "id": "cc1fd073",
   "metadata": {},
   "outputs": [
    {
     "data": {
      "text/plain": [
       "0.7095691102406267"
      ]
     },
     "execution_count": 83,
     "metadata": {},
     "output_type": "execute_result"
    }
   ],
   "source": [
    "accuracy_score(y_test,y_pred)"
   ]
  },
  {
   "cell_type": "code",
   "execution_count": 84,
   "id": "1f26fa2e",
   "metadata": {},
   "outputs": [
    {
     "name": "stdout",
     "output_type": "stream",
     "text": [
      "              precision    recall  f1-score   support\n",
      "\n",
      "           0       0.70      0.71      0.70       863\n",
      "           1       0.72      0.71      0.72       924\n",
      "\n",
      "    accuracy                           0.71      1787\n",
      "   macro avg       0.71      0.71      0.71      1787\n",
      "weighted avg       0.71      0.71      0.71      1787\n",
      "\n"
     ]
    }
   ],
   "source": [
    "print(classification_report(y_test,y_pred))"
   ]
  },
  {
   "cell_type": "code",
   "execution_count": 85,
   "id": "3e7268c0",
   "metadata": {},
   "outputs": [],
   "source": [
    "param_dist = {\"criterion\": ['gini', 'entropy'], \"max_depth\": [10,50,100,None]}"
   ]
  },
  {
   "cell_type": "code",
   "execution_count": 86,
   "id": "809561a9",
   "metadata": {},
   "outputs": [],
   "source": [
    "from sklearn.model_selection import GridSearchCV\n",
    "grid = GridSearchCV(DT_Model,param_grid=param_dist,cv=10)"
   ]
  },
  {
   "cell_type": "code",
   "execution_count": 87,
   "id": "adeb222a",
   "metadata": {},
   "outputs": [
    {
     "data": {
      "text/plain": [
       "GridSearchCV(cv=10, estimator=DecisionTreeClassifier(),\n",
       "             param_grid={'criterion': ['gini', 'entropy'],\n",
       "                         'max_depth': [10, 50, 100, None]})"
      ]
     },
     "execution_count": 87,
     "metadata": {},
     "output_type": "execute_result"
    }
   ],
   "source": [
    "grid.fit(X_train,y_train)"
   ]
  },
  {
   "cell_type": "code",
   "execution_count": 88,
   "id": "bc1fc60f",
   "metadata": {},
   "outputs": [
    {
     "data": {
      "text/plain": [
       "0.711688115805763"
      ]
     },
     "execution_count": 88,
     "metadata": {},
     "output_type": "execute_result"
    }
   ],
   "source": [
    "grid.best_score_"
   ]
  },
  {
   "cell_type": "code",
   "execution_count": 89,
   "id": "07a3c5c5",
   "metadata": {},
   "outputs": [
    {
     "data": {
      "text/plain": [
       "{'criterion': 'entropy', 'max_depth': 100}"
      ]
     },
     "execution_count": 89,
     "metadata": {},
     "output_type": "execute_result"
    }
   ],
   "source": [
    "grid.best_params_"
   ]
  },
  {
   "cell_type": "code",
   "execution_count": 90,
   "id": "dac980be",
   "metadata": {},
   "outputs": [
    {
     "data": {
      "text/plain": [
       "DecisionTreeClassifier(criterion='entropy', max_depth=100)"
      ]
     },
     "execution_count": 90,
     "metadata": {},
     "output_type": "execute_result"
    }
   ],
   "source": [
    "grid.best_estimator_"
   ]
  },
  {
   "cell_type": "markdown",
   "id": "7f34e970",
   "metadata": {},
   "source": [
    "# 4. Random Forest Classifier"
   ]
  },
  {
   "cell_type": "code",
   "execution_count": 91,
   "id": "deb82910",
   "metadata": {},
   "outputs": [
    {
     "data": {
      "text/plain": [
       "RandomForestClassifier()"
      ]
     },
     "execution_count": 91,
     "metadata": {},
     "output_type": "execute_result"
    }
   ],
   "source": [
    "from sklearn.ensemble import RandomForestClassifier\n",
    "RF_Model = RandomForestClassifier()\n",
    "RF_Model"
   ]
  },
  {
   "cell_type": "code",
   "execution_count": 92,
   "id": "1c8e13e7",
   "metadata": {},
   "outputs": [
    {
     "data": {
      "text/plain": [
       "RandomForestClassifier()"
      ]
     },
     "execution_count": 92,
     "metadata": {},
     "output_type": "execute_result"
    }
   ],
   "source": [
    "RF_Model.fit(X_train,y_train)"
   ]
  },
  {
   "cell_type": "code",
   "execution_count": 93,
   "id": "66351311",
   "metadata": {},
   "outputs": [
    {
     "data": {
      "text/plain": [
       "array([0, 1, 0, ..., 1, 1, 0])"
      ]
     },
     "execution_count": 93,
     "metadata": {},
     "output_type": "execute_result"
    }
   ],
   "source": [
    "y_pred = RF_Model.predict(X_test)\n",
    "y_pred"
   ]
  },
  {
   "cell_type": "code",
   "execution_count": 94,
   "id": "ded2301e",
   "metadata": {},
   "outputs": [
    {
     "data": {
      "text/plain": [
       "0.7174034695019585"
      ]
     },
     "execution_count": 94,
     "metadata": {},
     "output_type": "execute_result"
    }
   ],
   "source": [
    "accuracy_score(y_test,y_pred)"
   ]
  },
  {
   "cell_type": "code",
   "execution_count": 95,
   "id": "aa676f96",
   "metadata": {},
   "outputs": [
    {
     "name": "stdout",
     "output_type": "stream",
     "text": [
      "              precision    recall  f1-score   support\n",
      "\n",
      "           0       0.72      0.69      0.70       863\n",
      "           1       0.72      0.74      0.73       924\n",
      "\n",
      "    accuracy                           0.72      1787\n",
      "   macro avg       0.72      0.72      0.72      1787\n",
      "weighted avg       0.72      0.72      0.72      1787\n",
      "\n"
     ]
    }
   ],
   "source": [
    "print(classification_report(y_test,y_pred))"
   ]
  },
  {
   "cell_type": "code",
   "execution_count": 96,
   "id": "7b0397d9",
   "metadata": {},
   "outputs": [],
   "source": [
    "param_dist = {'n_estimators':[100,150],\n",
    "              'criterion':['gini','entrophy'],\n",
    "             'max_depth':[10,20],\n",
    "    'min_samples_leaf': [4,5],\n",
    "    'max_features': ['auto', 'sqrt', 'log2']}"
   ]
  },
  {
   "cell_type": "code",
   "execution_count": 97,
   "id": "55015b1b",
   "metadata": {},
   "outputs": [],
   "source": [
    "grid_ = GridSearchCV(RF_Model,param_grid=param_dist,cv=10)"
   ]
  },
  {
   "cell_type": "code",
   "execution_count": 98,
   "id": "1466b79e",
   "metadata": {
    "scrolled": true
   },
   "outputs": [
    {
     "data": {
      "text/plain": [
       "GridSearchCV(cv=10, estimator=RandomForestClassifier(),\n",
       "             param_grid={'criterion': ['gini', 'entrophy'],\n",
       "                         'max_depth': [10, 20],\n",
       "                         'max_features': ['auto', 'sqrt', 'log2'],\n",
       "                         'min_samples_leaf': [4, 5],\n",
       "                         'n_estimators': [100, 150]})"
      ]
     },
     "execution_count": 98,
     "metadata": {},
     "output_type": "execute_result"
    }
   ],
   "source": [
    "grid_.fit(X_train,y_train)"
   ]
  },
  {
   "cell_type": "code",
   "execution_count": 99,
   "id": "46c44bc6",
   "metadata": {},
   "outputs": [
    {
     "data": {
      "text/plain": [
       "0.7140680887739711"
      ]
     },
     "execution_count": 99,
     "metadata": {},
     "output_type": "execute_result"
    }
   ],
   "source": [
    "grid_.best_score_"
   ]
  },
  {
   "cell_type": "code",
   "execution_count": 100,
   "id": "fef5b8b8",
   "metadata": {},
   "outputs": [
    {
     "data": {
      "text/plain": [
       "RandomForestClassifier(max_depth=20, min_samples_leaf=4, n_estimators=150)"
      ]
     },
     "execution_count": 100,
     "metadata": {},
     "output_type": "execute_result"
    }
   ],
   "source": [
    "grid_.best_estimator_"
   ]
  },
  {
   "cell_type": "code",
   "execution_count": 101,
   "id": "a17771a3",
   "metadata": {
    "scrolled": true
   },
   "outputs": [
    {
     "data": {
      "text/plain": [
       "{'criterion': 'gini',\n",
       " 'max_depth': 20,\n",
       " 'max_features': 'auto',\n",
       " 'min_samples_leaf': 4,\n",
       " 'n_estimators': 150}"
      ]
     },
     "execution_count": 101,
     "metadata": {},
     "output_type": "execute_result"
    }
   ],
   "source": [
    "grid_.best_params_"
   ]
  },
  {
   "cell_type": "markdown",
   "id": "d748c0ac",
   "metadata": {},
   "source": [
    "# 5. K - Nearest Neighbor Classifier"
   ]
  },
  {
   "cell_type": "code",
   "execution_count": 102,
   "id": "b24b8470",
   "metadata": {},
   "outputs": [
    {
     "data": {
      "text/plain": [
       "KNeighborsClassifier()"
      ]
     },
     "execution_count": 102,
     "metadata": {},
     "output_type": "execute_result"
    }
   ],
   "source": [
    "from sklearn.neighbors import KNeighborsClassifier\n",
    "KNN_Model = KNeighborsClassifier()\n",
    "KNN_Model "
   ]
  },
  {
   "cell_type": "code",
   "execution_count": 103,
   "id": "7b84c720",
   "metadata": {},
   "outputs": [
    {
     "data": {
      "text/plain": [
       "KNeighborsClassifier()"
      ]
     },
     "execution_count": 103,
     "metadata": {},
     "output_type": "execute_result"
    }
   ],
   "source": [
    "KNN_Model.fit(X_train,y_train)"
   ]
  },
  {
   "cell_type": "code",
   "execution_count": 104,
   "id": "59983bd1",
   "metadata": {},
   "outputs": [
    {
     "data": {
      "text/plain": [
       "array([0, 1, 0, ..., 1, 1, 0])"
      ]
     },
     "execution_count": 104,
     "metadata": {},
     "output_type": "execute_result"
    }
   ],
   "source": [
    "y_pred = KNN_Model.predict(X_test)\n",
    "y_pred"
   ]
  },
  {
   "cell_type": "code",
   "execution_count": 105,
   "id": "567e3ee5",
   "metadata": {},
   "outputs": [
    {
     "data": {
      "text/plain": [
       "0.6804700615556799"
      ]
     },
     "execution_count": 105,
     "metadata": {},
     "output_type": "execute_result"
    }
   ],
   "source": [
    "accuracy_score(y_test,y_pred)"
   ]
  },
  {
   "cell_type": "code",
   "execution_count": 106,
   "id": "b74e946b",
   "metadata": {},
   "outputs": [
    {
     "name": "stdout",
     "output_type": "stream",
     "text": [
      "              precision    recall  f1-score   support\n",
      "\n",
      "           0       0.67      0.67      0.67       863\n",
      "           1       0.69      0.69      0.69       924\n",
      "\n",
      "    accuracy                           0.68      1787\n",
      "   macro avg       0.68      0.68      0.68      1787\n",
      "weighted avg       0.68      0.68      0.68      1787\n",
      "\n"
     ]
    }
   ],
   "source": [
    "print(classification_report(y_test,y_pred))"
   ]
  },
  {
   "cell_type": "markdown",
   "id": "88acefa5",
   "metadata": {},
   "source": [
    "# 6. XGBoost Classifier"
   ]
  },
  {
   "cell_type": "code",
   "execution_count": 107,
   "id": "adf0e6c2",
   "metadata": {},
   "outputs": [
    {
     "data": {
      "text/plain": [
       "XGBClassifier(base_score=None, booster=None, callbacks=None,\n",
       "              colsample_bylevel=None, colsample_bynode=None,\n",
       "              colsample_bytree=None, early_stopping_rounds=None,\n",
       "              enable_categorical=False, eval_metric=None, feature_types=None,\n",
       "              gamma=None, gpu_id=None, grow_policy=None, importance_type=None,\n",
       "              interaction_constraints=None, learning_rate=None, max_bin=None,\n",
       "              max_cat_threshold=None, max_cat_to_onehot=None,\n",
       "              max_delta_step=None, max_depth=None, max_leaves=None,\n",
       "              min_child_weight=None, missing=nan, monotone_constraints=None,\n",
       "              n_estimators=100, n_jobs=None, num_parallel_tree=None,\n",
       "              predictor=None, random_state=None, ...)"
      ]
     },
     "execution_count": 107,
     "metadata": {},
     "output_type": "execute_result"
    }
   ],
   "source": [
    "from xgboost import XGBClassifier\n",
    "XGB_Model = XGBClassifier()\n",
    "XGB_Model"
   ]
  },
  {
   "cell_type": "code",
   "execution_count": 108,
   "id": "2fcfb822",
   "metadata": {},
   "outputs": [
    {
     "data": {
      "text/plain": [
       "XGBClassifier(base_score=None, booster=None, callbacks=None,\n",
       "              colsample_bylevel=None, colsample_bynode=None,\n",
       "              colsample_bytree=None, early_stopping_rounds=None,\n",
       "              enable_categorical=False, eval_metric=None, feature_types=None,\n",
       "              gamma=None, gpu_id=None, grow_policy=None, importance_type=None,\n",
       "              interaction_constraints=None, learning_rate=None, max_bin=None,\n",
       "              max_cat_threshold=None, max_cat_to_onehot=None,\n",
       "              max_delta_step=None, max_depth=None, max_leaves=None,\n",
       "              min_child_weight=None, missing=nan, monotone_constraints=None,\n",
       "              n_estimators=100, n_jobs=None, num_parallel_tree=None,\n",
       "              predictor=None, random_state=None, ...)"
      ]
     },
     "execution_count": 108,
     "metadata": {},
     "output_type": "execute_result"
    }
   ],
   "source": [
    "XGB_Model.fit(X_train,y_train)"
   ]
  },
  {
   "cell_type": "code",
   "execution_count": 109,
   "id": "9919a01d",
   "metadata": {},
   "outputs": [
    {
     "data": {
      "text/plain": [
       "array([0, 1, 1, ..., 1, 1, 0])"
      ]
     },
     "execution_count": 109,
     "metadata": {},
     "output_type": "execute_result"
    }
   ],
   "source": [
    "y_pred = XGB_Model.predict(X_test)\n",
    "y_pred"
   ]
  },
  {
   "cell_type": "code",
   "execution_count": 110,
   "id": "01ca9486",
   "metadata": {},
   "outputs": [
    {
     "data": {
      "text/plain": [
       "0.7174034695019585"
      ]
     },
     "execution_count": 110,
     "metadata": {},
     "output_type": "execute_result"
    }
   ],
   "source": [
    "accuracy_score(y_test,y_pred)"
   ]
  },
  {
   "cell_type": "code",
   "execution_count": 111,
   "id": "b873d267",
   "metadata": {},
   "outputs": [
    {
     "name": "stdout",
     "output_type": "stream",
     "text": [
      "              precision    recall  f1-score   support\n",
      "\n",
      "           0       0.72      0.68      0.70       863\n",
      "           1       0.72      0.75      0.73       924\n",
      "\n",
      "    accuracy                           0.72      1787\n",
      "   macro avg       0.72      0.72      0.72      1787\n",
      "weighted avg       0.72      0.72      0.72      1787\n",
      "\n"
     ]
    }
   ],
   "source": [
    "print(classification_report(y_test,y_pred))"
   ]
  },
  {
   "cell_type": "code",
   "execution_count": 112,
   "id": "e4c00d0b",
   "metadata": {},
   "outputs": [],
   "source": [
    "param_dist = {'learning_rate':[0.0001,0.001,0.01,0.1],\n",
    "             'max_depth':[3,4,5,6,8],\n",
    "             'colsample_bytree':[0.5,0.6,0.7,0.8],\n",
    "             'gamma':[0.1,0.2,0.3,0.4]}"
   ]
  },
  {
   "cell_type": "code",
   "execution_count": 113,
   "id": "2a0fedd7",
   "metadata": {},
   "outputs": [],
   "source": [
    "grid = GridSearchCV(XGB_Model,param_grid=param_dist,cv=10)"
   ]
  },
  {
   "cell_type": "code",
   "execution_count": 114,
   "id": "d1974991",
   "metadata": {},
   "outputs": [
    {
     "data": {
      "text/plain": [
       "GridSearchCV(cv=10,\n",
       "             estimator=XGBClassifier(base_score=None, booster=None,\n",
       "                                     callbacks=None, colsample_bylevel=None,\n",
       "                                     colsample_bynode=None,\n",
       "                                     colsample_bytree=None,\n",
       "                                     early_stopping_rounds=None,\n",
       "                                     enable_categorical=False, eval_metric=None,\n",
       "                                     feature_types=None, gamma=None,\n",
       "                                     gpu_id=None, grow_policy=None,\n",
       "                                     importance_type=None,\n",
       "                                     interaction_constraints=None,\n",
       "                                     learning_rate=None...\n",
       "                                     max_cat_to_onehot=None,\n",
       "                                     max_delta_step=None, max_depth=None,\n",
       "                                     max_leaves=None, min_child_weight=None,\n",
       "                                     missing=nan, monotone_constraints=None,\n",
       "                                     n_estimators=100, n_jobs=None,\n",
       "                                     num_parallel_tree=None, predictor=None,\n",
       "                                     random_state=None, ...),\n",
       "             param_grid={'colsample_bytree': [0.5, 0.6, 0.7, 0.8],\n",
       "                         'gamma': [0.1, 0.2, 0.3, 0.4],\n",
       "                         'learning_rate': [0.0001, 0.001, 0.01, 0.1],\n",
       "                         'max_depth': [3, 4, 5, 6, 8]})"
      ]
     },
     "execution_count": 114,
     "metadata": {},
     "output_type": "execute_result"
    }
   ],
   "source": [
    "grid.fit(X_train,y_train)"
   ]
  },
  {
   "cell_type": "code",
   "execution_count": 115,
   "id": "3638be3d",
   "metadata": {},
   "outputs": [
    {
     "data": {
      "text/plain": [
       "XGBClassifier(base_score=None, booster=None, callbacks=None,\n",
       "              colsample_bylevel=None, colsample_bynode=None,\n",
       "              colsample_bytree=0.8, early_stopping_rounds=None,\n",
       "              enable_categorical=False, eval_metric=None, feature_types=None,\n",
       "              gamma=0.2, gpu_id=None, grow_policy=None, importance_type=None,\n",
       "              interaction_constraints=None, learning_rate=0.1, max_bin=None,\n",
       "              max_cat_threshold=None, max_cat_to_onehot=None,\n",
       "              max_delta_step=None, max_depth=8, max_leaves=None,\n",
       "              min_child_weight=None, missing=nan, monotone_constraints=None,\n",
       "              n_estimators=100, n_jobs=None, num_parallel_tree=None,\n",
       "              predictor=None, random_state=None, ...)"
      ]
     },
     "execution_count": 115,
     "metadata": {},
     "output_type": "execute_result"
    }
   ],
   "source": [
    "grid.best_estimator_"
   ]
  },
  {
   "cell_type": "code",
   "execution_count": 116,
   "id": "afd12594",
   "metadata": {},
   "outputs": [
    {
     "data": {
      "text/plain": [
       "0.7237239231356878"
      ]
     },
     "execution_count": 116,
     "metadata": {},
     "output_type": "execute_result"
    }
   ],
   "source": [
    "grid.best_score_"
   ]
  },
  {
   "cell_type": "code",
   "execution_count": 117,
   "id": "3a1f0862",
   "metadata": {},
   "outputs": [
    {
     "data": {
      "text/plain": [
       "{'colsample_bytree': 0.8, 'gamma': 0.2, 'learning_rate': 0.1, 'max_depth': 8}"
      ]
     },
     "execution_count": 117,
     "metadata": {},
     "output_type": "execute_result"
    }
   ],
   "source": [
    "grid.best_params_"
   ]
  },
  {
   "cell_type": "markdown",
   "id": "554269c8",
   "metadata": {},
   "source": [
    "# 7. Bernoulli Naive Bayes"
   ]
  },
  {
   "cell_type": "code",
   "execution_count": 118,
   "id": "48d285cb",
   "metadata": {},
   "outputs": [
    {
     "data": {
      "text/plain": [
       "BernoulliNB()"
      ]
     },
     "execution_count": 118,
     "metadata": {},
     "output_type": "execute_result"
    }
   ],
   "source": [
    "from sklearn.naive_bayes import BernoulliNB\n",
    "BNB_Model = BernoulliNB()\n",
    "BNB_Model"
   ]
  },
  {
   "cell_type": "code",
   "execution_count": 119,
   "id": "5f297709",
   "metadata": {},
   "outputs": [
    {
     "data": {
      "text/plain": [
       "BernoulliNB()"
      ]
     },
     "execution_count": 119,
     "metadata": {},
     "output_type": "execute_result"
    }
   ],
   "source": [
    "BNB_Model.fit(X_train,y_train)"
   ]
  },
  {
   "cell_type": "code",
   "execution_count": 120,
   "id": "83b13b40",
   "metadata": {},
   "outputs": [
    {
     "data": {
      "text/plain": [
       "array([0, 0, 1, ..., 1, 1, 1])"
      ]
     },
     "execution_count": 120,
     "metadata": {},
     "output_type": "execute_result"
    }
   ],
   "source": [
    "y_pred = BNB_Model.predict(X_test)\n",
    "y_pred"
   ]
  },
  {
   "cell_type": "code",
   "execution_count": 121,
   "id": "34ba7e4c",
   "metadata": {},
   "outputs": [
    {
     "data": {
      "text/plain": [
       "0.5948517067711248"
      ]
     },
     "execution_count": 121,
     "metadata": {},
     "output_type": "execute_result"
    }
   ],
   "source": [
    "accuracy_score(y_test,y_pred)"
   ]
  },
  {
   "cell_type": "code",
   "execution_count": 122,
   "id": "e2335282",
   "metadata": {},
   "outputs": [
    {
     "name": "stdout",
     "output_type": "stream",
     "text": [
      "              precision    recall  f1-score   support\n",
      "\n",
      "           0       0.57      0.69      0.62       863\n",
      "           1       0.63      0.51      0.57       924\n",
      "\n",
      "    accuracy                           0.59      1787\n",
      "   macro avg       0.60      0.60      0.59      1787\n",
      "weighted avg       0.60      0.59      0.59      1787\n",
      "\n"
     ]
    }
   ],
   "source": [
    "print(classification_report(y_test,y_pred))"
   ]
  },
  {
   "cell_type": "markdown",
   "id": "c66428f1",
   "metadata": {},
   "source": [
    "# Conclusion"
   ]
  },
  {
   "cell_type": "markdown",
   "id": "e1f37792",
   "metadata": {},
   "source": [
    "* We tried 7 different models as our first step in modelling process, to evaluate & choose the best model as our baseline model.\n",
    "\n",
    "\n",
    "* Earlier, the Decision Tree Classifier, Random Forest Classifier, and XGBoost Classifier outperformed Support Vector Machine and K-Nearest Neighbor in terms of performance. However, Logistic Regression and Naive Bayes showed lower accuracy.\n",
    "\n",
    "\n",
    "* To further improve the accuracy of the top three algorithms, we applied hyperparameter tuning using GridSearch Cross Validation.\n",
    "\n",
    "\n",
    "* Decision Tree Classifier: We tuned hyperparameters like max depth, minimum samples per leaf, and the splitting criterion (gini or entropy) to find the best configuration that maximizes accuracy.\n",
    "\n",
    "\n",
    "* Random Forest Classifier: For Random Forest, we optimized hyperparameters such as the number of trees (n_estimators), maximum depth of trees, minimum samples per leaf, and the splitting criterion.\n",
    "\n",
    "\n",
    "* XGBoost Classifier: In XGBoost, we tuned parameters like the learning rate, number of boosting rounds (n_estimators), maximum depth of trees, and the regularization parameters (gamma and lambda).\n",
    "\n",
    "\n",
    "* After hyperparameter tuning, the XGBoost Classifier achieved the highest accuracy of 72%."
   ]
  }
 ],
 "metadata": {
  "kernelspec": {
   "display_name": "Python 3 (ipykernel)",
   "language": "python",
   "name": "python3"
  },
  "language_info": {
   "codemirror_mode": {
    "name": "ipython",
    "version": 3
   },
   "file_extension": ".py",
   "mimetype": "text/x-python",
   "name": "python",
   "nbconvert_exporter": "python",
   "pygments_lexer": "ipython3",
   "version": "3.9.13"
  }
 },
 "nbformat": 4,
 "nbformat_minor": 5
}
